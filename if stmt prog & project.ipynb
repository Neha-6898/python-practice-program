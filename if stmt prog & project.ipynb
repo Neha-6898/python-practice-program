{
 "cells": [
  {
   "cell_type": "code",
   "execution_count": 8,
   "id": "52e447b5",
   "metadata": {},
   "outputs": [
    {
     "name": "stdout",
     "output_type": "stream",
     "text": [
      "Enter the amount for the item: 290\n",
      "Enter the state name in USA: mumbai\n",
      "invalid case name\n"
     ]
    }
   ],
   "source": [
    "#package delivery cost based on location and total amount\n",
    "total=int(input(\"Enter the amount for the item: \"))\n",
    "state=input(\"Enter the state name in USA: \")\n",
    "if state == \"Texas\":\n",
    "    if total <= 150:\n",
    "        print(\"Shipping cost in Texas is $30\")\n",
    "    elif total > 150 and total <= 250:\n",
    "        print(\"Shipping cost in texas is $20\")\n",
    "    else:\n",
    "        print(\"Shipping cost is $5\")\n",
    "elif state == \"Florida\":\n",
    "    if total <= 150:\n",
    "        print(\"shipping cost in florida is $45\")\n",
    "    elif total > 150 and total <= 250:\n",
    "        print(\"Shipping cost in florida $35 \")\n",
    "    else:\n",
    "        print(\"Shipping cost in florida is $10\")\n",
    "elif state == \"Verginia\":\n",
    "    if total <= 150:\n",
    "        print(\"shipping cost in Verginia is $23\")\n",
    "    elif total > 150 and total <= 250:\n",
    "        print(\"Shipping cost in Verginia $15 \")\n",
    "    else:\n",
    "        print(\"Shipping cost in Verginia is $5\")\n",
    "elif state == \"Jercy\":\n",
    "    if total <= 150:\n",
    "        print(\"shipping cost in Jercy is $40\")\n",
    "    elif total > 150 and total <= 250:\n",
    "        print(\"Shipping cost in Jercy $10 \")\n",
    "    else:\n",
    "        print(\"Shipping cost in Jercy is free\")\n",
    "else:\n",
    "    print(\"invalid case name\")\n",
    "\n",
    "        \n",
    "    \n",
    "    "
   ]
  },
  {
   "cell_type": "code",
   "execution_count": null,
   "id": "7df1b348",
   "metadata": {},
   "outputs": [],
   "source": []
  },
  {
   "cell_type": "code",
   "execution_count": null,
   "id": "03414565",
   "metadata": {},
   "outputs": [],
   "source": []
  }
 ],
 "metadata": {
  "kernelspec": {
   "display_name": "Python 3 (ipykernel)",
   "language": "python",
   "name": "python3"
  },
  "language_info": {
   "codemirror_mode": {
    "name": "ipython",
    "version": 3
   },
   "file_extension": ".py",
   "mimetype": "text/x-python",
   "name": "python",
   "nbconvert_exporter": "python",
   "pygments_lexer": "ipython3",
   "version": "3.11.4"
  }
 },
 "nbformat": 4,
 "nbformat_minor": 5
}
