{
 "cells": [
  {
   "cell_type": "code",
   "execution_count": 2,
   "id": "cc80649a",
   "metadata": {},
   "outputs": [
    {
     "name": "stdout",
     "output_type": "stream",
     "text": [
      "hello everyone\n",
      "good morning\n",
      "happy dussera\n"
     ]
    }
   ],
   "source": [
    "#read *************************************************************\n",
    "import os\n",
    "file=open(\"C:/Users/HP/Desktop/objecttypes/today.txt\",\"r\")\n",
    "print(file.read())"
   ]
  },
  {
   "cell_type": "code",
   "execution_count": 3,
   "id": "c0d5490c",
   "metadata": {},
   "outputs": [
    {
     "name": "stdout",
     "output_type": "stream",
     "text": [
      "hello e\n"
     ]
    }
   ],
   "source": [
    "#read first 7 character\n",
    "import os\n",
    "file=open(\"C:/Users/HP/Desktop/objecttypes/today.txt\",\"r\")\n",
    "print(file.read(7))\n",
    "file.close()"
   ]
  },
  {
   "cell_type": "code",
   "execution_count": 4,
   "id": "e13e46cd",
   "metadata": {},
   "outputs": [
    {
     "name": "stdout",
     "output_type": "stream",
     "text": [
      "hello everyone\n",
      "\n"
     ]
    }
   ],
   "source": [
    "#read line by line\n",
    "import os\n",
    "file=open(\"C:/Users/HP/Desktop/objecttypes/today.txt\",\"r\")\n",
    "print(file.readline())\n",
    "file.close()"
   ]
  },
  {
   "cell_type": "code",
   "execution_count": 5,
   "id": "7365283a",
   "metadata": {},
   "outputs": [
    {
     "name": "stdout",
     "output_type": "stream",
     "text": [
      "['hello everyone\\n', 'good morning\\n', 'happy dussera']\n"
     ]
    }
   ],
   "source": [
    "#read all lines line by line\n",
    "import os\n",
    "file=open(\"C:/Users/HP/Desktop/objecttypes/today.txt\",\"r\")\n",
    "print(file.readlines())\n",
    "file.close()"
   ]
  },
  {
   "cell_type": "code",
   "execution_count": 6,
   "id": "6fa91218",
   "metadata": {},
   "outputs": [
    {
     "name": "stdout",
     "output_type": "stream",
     "text": [
      "hello\n"
     ]
    }
   ],
   "source": [
    "#read given no of character in single line\n",
    "import os\n",
    "file=open(\"C:/Users/HP/Desktop/objecttypes/today.txt\",\"r\")\n",
    "print(file.readline(5))\n",
    "file.close()"
   ]
  },
  {
   "cell_type": "code",
   "execution_count": 7,
   "id": "d65c1fed",
   "metadata": {},
   "outputs": [],
   "source": [
    "#write***************************************************************\n",
    "import os\n",
    "file=open(\"C:/Users/HP/Desktop/objecttypes/today.txt\",\"w\")\n",
    "file.write(\"stay happy\")\n",
    "file.write(\"enjoy the festival\")\n",
    "file.close()"
   ]
  },
  {
   "cell_type": "code",
   "execution_count": 8,
   "id": "a7e5d16f",
   "metadata": {},
   "outputs": [],
   "source": [
    "#create new file \n",
    "import os\n",
    "file=open(\"C:/Users/HP/Desktop/objecttypes/filedemo.txt\",\"x\")\n",
    "file.write(\"sunshine\")\n",
    "file.close()"
   ]
  },
  {
   "cell_type": "code",
   "execution_count": 9,
   "id": "e7fa1a1d",
   "metadata": {},
   "outputs": [],
   "source": [
    "#delete file\n",
    "import os\n",
    "os.remove(\"C:/Users/HP/Desktop/objecttypes/filedemo.txt\")"
   ]
  },
  {
   "cell_type": "code",
   "execution_count": 10,
   "id": "e4aa8cca",
   "metadata": {},
   "outputs": [
    {
     "name": "stdout",
     "output_type": "stream",
     "text": [
      "file does not exist\n"
     ]
    }
   ],
   "source": [
    "#check file exist or not\n",
    "import os\n",
    "if os.path.exists(\"C:/Users/HP/Desktop/objecttypes/filedemo.txt\"):\n",
    "    os.remove(\"filedemo.txt\")\n",
    "else:\n",
    "    print(\"file does not exist\")"
   ]
  },
  {
   "cell_type": "code",
   "execution_count": 14,
   "id": "70af59aa",
   "metadata": {},
   "outputs": [
    {
     "name": "stdout",
     "output_type": "stream",
     "text": [
      "['welcome \\n']\n"
     ]
    }
   ],
   "source": [
    "#print line by line\n",
    "import os\n",
    "file=open(\"C:/Users/HP/Desktop/objecttypes/data.txt\",\"r\")\n",
    "for line in file:\n",
    "    print(file.readlines())\n",
    "file.close()\n"
   ]
  },
  {
   "cell_type": "code",
   "execution_count": null,
   "id": "7a8868a8",
   "metadata": {},
   "outputs": [],
   "source": []
  },
  {
   "cell_type": "code",
   "execution_count": null,
   "id": "1118d1d4",
   "metadata": {},
   "outputs": [],
   "source": []
  }
 ],
 "metadata": {
  "kernelspec": {
   "display_name": "Python 3 (ipykernel)",
   "language": "python",
   "name": "python3"
  },
  "language_info": {
   "codemirror_mode": {
    "name": "ipython",
    "version": 3
   },
   "file_extension": ".py",
   "mimetype": "text/x-python",
   "name": "python",
   "nbconvert_exporter": "python",
   "pygments_lexer": "ipython3",
   "version": "3.11.4"
  }
 },
 "nbformat": 4,
 "nbformat_minor": 5
}
