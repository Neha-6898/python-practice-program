{
 "cells": [
  {
   "cell_type": "code",
   "execution_count": 1,
   "id": "96b85fa4",
   "metadata": {},
   "outputs": [
    {
     "ename": "ZeroDivisionError",
     "evalue": "division by zero",
     "output_type": "error",
     "traceback": [
      "\u001b[1;31m---------------------------------------------------------------------------\u001b[0m",
      "\u001b[1;31mZeroDivisionError\u001b[0m                         Traceback (most recent call last)",
      "Cell \u001b[1;32mIn[1], line 3\u001b[0m\n\u001b[0;32m      1\u001b[0m a\u001b[38;5;241m=\u001b[39m\u001b[38;5;241m10\u001b[39m\n\u001b[0;32m      2\u001b[0m b\u001b[38;5;241m=\u001b[39m\u001b[38;5;241m0\u001b[39m\n\u001b[1;32m----> 3\u001b[0m c\u001b[38;5;241m=\u001b[39ma\u001b[38;5;241m/\u001b[39mb\n\u001b[0;32m      4\u001b[0m \u001b[38;5;28mprint\u001b[39m(\u001b[38;5;124m\"\u001b[39m\u001b[38;5;124ma/b=\u001b[39m\u001b[38;5;132;01m%d\u001b[39;00m\u001b[38;5;124m\"\u001b[39m \u001b[38;5;241m%\u001b[39mc)\n",
      "\u001b[1;31mZeroDivisionError\u001b[0m: division by zero"
     ]
    }
   ],
   "source": [
    "a=10\n",
    "b=0\n",
    "c=a/b\n",
    "print(\"a/b=%d\" %c)"
   ]
  },
  {
   "cell_type": "code",
   "execution_count": 3,
   "id": "134d43fa",
   "metadata": {},
   "outputs": [
    {
     "name": "stdout",
     "output_type": "stream",
     "text": [
      "enter a:10\n",
      "enter b:0\n",
      "cant divide with zero\n"
     ]
    }
   ],
   "source": [
    "try:\n",
    "    a=int(input(\"enter a:\"))\n",
    "    b=int(input(\"enter b:\"))\n",
    "    c=a/b\n",
    "except:\n",
    "    print(\"cant divide with zero\")"
   ]
  },
  {
   "cell_type": "code",
   "execution_count": 5,
   "id": "57bea0ff",
   "metadata": {},
   "outputs": [
    {
     "name": "stdout",
     "output_type": "stream",
     "text": [
      "do not divide by zero\n",
      "completed\n"
     ]
    }
   ],
   "source": [
    "a=70\n",
    "b=0\n",
    "try:\n",
    "    print(a/b)\n",
    "    print(\"new line\")\n",
    "    \n",
    "except ZeroDivisionError:\n",
    "    print(\"do not divide by zero\")\n",
    "    \n",
    "print(\"completed\")"
   ]
  },
  {
   "cell_type": "code",
   "execution_count": 6,
   "id": "481eec50",
   "metadata": {},
   "outputs": [
    {
     "name": "stdout",
     "output_type": "stream",
     "text": [
      "7.777777777777778\n",
      "new line\n",
      "completed\n"
     ]
    }
   ],
   "source": [
    "a=70\n",
    "b=9\n",
    "try:\n",
    "    print(a/b)\n",
    "    print(\"new line\")\n",
    "#here except block doesnt get executed as there was no exception\n",
    "except ZeroDivisionError:\n",
    "    print(\"do not divide number by zero\")\n",
    "print(\"completed\")"
   ]
  },
  {
   "cell_type": "code",
   "execution_count": 9,
   "id": "fdb22f80",
   "metadata": {},
   "outputs": [
    {
     "name": "stdout",
     "output_type": "stream",
     "text": [
      "enter a:10\n",
      "enter b:2\n",
      "a/b=5\n",
      "welcome\n"
     ]
    }
   ],
   "source": [
    "try:\n",
    "    a=int(input(\"enter a:\"))\n",
    "    b=int(input(\"enter b:\"))\n",
    "    c=a/b\n",
    "    print(\"a/b=%d\"%c)\n",
    "except Exception:\n",
    "    print(\"cant divide by zero\")\n",
    "    print(Exception)\n",
    "else:\n",
    "    print(\"welcome\")"
   ]
  },
  {
   "cell_type": "code",
   "execution_count": 10,
   "id": "469c8d63",
   "metadata": {},
   "outputs": [
    {
     "name": "stdout",
     "output_type": "stream",
     "text": [
      "do not divide number by zero division by zero\n",
      "completed\n"
     ]
    }
   ],
   "source": [
    "a=10\n",
    "b=0\n",
    "try:\n",
    "    print(a/b)\n",
    "except Exception as a:\n",
    "    print(\"do not divide number by zero\",a)\n",
    "print(\"completed\")"
   ]
  },
  {
   "cell_type": "code",
   "execution_count": 11,
   "id": "7dd44bb5",
   "metadata": {},
   "outputs": [
    {
     "name": "stdout",
     "output_type": "stream",
     "text": [
      "do not divide number by zero name 'z' is not defined\n",
      "completed\n"
     ]
    }
   ],
   "source": [
    "a=10\n",
    "b=0\n",
    "try:\n",
    "    print(a/z)\n",
    "except Exception as a:\n",
    "    print(\"do not divide number by zero\",a)\n",
    "except NameError as b:\n",
    "    print(b)\n",
    "print(\"completed\")\n"
   ]
  },
  {
   "cell_type": "code",
   "execution_count": 12,
   "id": "765824b7",
   "metadata": {},
   "outputs": [
    {
     "name": "stdout",
     "output_type": "stream",
     "text": [
      "division by zero not allowed\n",
      "out of except block\n"
     ]
    }
   ],
   "source": [
    "try:\n",
    "    a=5\n",
    "    b=0\n",
    "    print(a/b)\n",
    "except TypeError:\n",
    "    print(\"unsupported operation\")\n",
    "except ZeroDivisionError:\n",
    "    print(\"division by zero not allowed\")\n",
    "print(\"out of except block\")"
   ]
  },
  {
   "cell_type": "code",
   "execution_count": 13,
   "id": "f6bfeacc",
   "metadata": {},
   "outputs": [
    {
     "ename": "Exception",
     "evalue": "sorry, no numbers below zero",
     "output_type": "error",
     "traceback": [
      "\u001b[1;31m---------------------------------------------------------------------------\u001b[0m",
      "\u001b[1;31mException\u001b[0m                                 Traceback (most recent call last)",
      "Cell \u001b[1;32mIn[13], line 3\u001b[0m\n\u001b[0;32m      1\u001b[0m x\u001b[38;5;241m=\u001b[39m\u001b[38;5;241m-\u001b[39m\u001b[38;5;241m15\u001b[39m\n\u001b[0;32m      2\u001b[0m \u001b[38;5;28;01mif\u001b[39;00m x\u001b[38;5;241m<\u001b[39m\u001b[38;5;241m0\u001b[39m:\n\u001b[1;32m----> 3\u001b[0m     \u001b[38;5;28;01mraise\u001b[39;00m \u001b[38;5;167;01mException\u001b[39;00m(\u001b[38;5;124m\"\u001b[39m\u001b[38;5;124msorry, no numbers below zero\u001b[39m\u001b[38;5;124m\"\u001b[39m)\n",
      "\u001b[1;31mException\u001b[0m: sorry, no numbers below zero"
     ]
    }
   ],
   "source": [
    "x=-15\n",
    "if x<0:\n",
    "    raise Exception(\"sorry, no numbers below zero\")"
   ]
  },
  {
   "cell_type": "code",
   "execution_count": 15,
   "id": "dfd0e7a3",
   "metadata": {},
   "outputs": [
    {
     "ename": "AssertionError",
     "evalue": "compatible with linux only",
     "output_type": "error",
     "traceback": [
      "\u001b[1;31m---------------------------------------------------------------------------\u001b[0m",
      "\u001b[1;31mAssertionError\u001b[0m                            Traceback (most recent call last)",
      "Cell \u001b[1;32mIn[15], line 2\u001b[0m\n\u001b[0;32m      1\u001b[0m \u001b[38;5;28;01mimport\u001b[39;00m \u001b[38;5;21;01msys\u001b[39;00m\n\u001b[1;32m----> 2\u001b[0m \u001b[38;5;28;01massert\u001b[39;00m(\u001b[38;5;124m\"\u001b[39m\u001b[38;5;124mlinux\u001b[39m\u001b[38;5;124m\"\u001b[39m \u001b[38;5;129;01min\u001b[39;00m sys\u001b[38;5;241m.\u001b[39mplatform),\u001b[38;5;124m\"\u001b[39m\u001b[38;5;124mcompatible with linux only\u001b[39m\u001b[38;5;124m\"\u001b[39m\n",
      "\u001b[1;31mAssertionError\u001b[0m: compatible with linux only"
     ]
    }
   ],
   "source": [
    "import sys\n",
    "assert(\"linux\" in sys.platform),\"compatible with linux only\""
   ]
  },
  {
   "cell_type": "code",
   "execution_count": null,
   "id": "8e7fb0f6",
   "metadata": {},
   "outputs": [],
   "source": []
  }
 ],
 "metadata": {
  "kernelspec": {
   "display_name": "Python 3 (ipykernel)",
   "language": "python",
   "name": "python3"
  },
  "language_info": {
   "codemirror_mode": {
    "name": "ipython",
    "version": 3
   },
   "file_extension": ".py",
   "mimetype": "text/x-python",
   "name": "python",
   "nbconvert_exporter": "python",
   "pygments_lexer": "ipython3",
   "version": "3.11.4"
  }
 },
 "nbformat": 4,
 "nbformat_minor": 5
}
