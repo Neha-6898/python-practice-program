{
 "cells": [
  {
   "cell_type": "code",
   "execution_count": 1,
   "id": "89c4d6e1",
   "metadata": {},
   "outputs": [
    {
     "name": "stdout",
     "output_type": "stream",
     "text": [
      "('apple', 'orange', 'banana', 'kiwi')\n"
     ]
    }
   ],
   "source": [
    "#tuples\n",
    "tup1=('apple','orange','banana','kiwi')\n",
    "print(tup1)"
   ]
  },
  {
   "cell_type": "code",
   "execution_count": 2,
   "id": "2f861129",
   "metadata": {},
   "outputs": [
    {
     "name": "stdout",
     "output_type": "stream",
     "text": [
      "<class 'str'>\n"
     ]
    }
   ],
   "source": [
    "tup2=('apple')\n",
    "print(type(tup2))"
   ]
  },
  {
   "cell_type": "code",
   "execution_count": 3,
   "id": "b0e8ef9e",
   "metadata": {},
   "outputs": [
    {
     "name": "stdout",
     "output_type": "stream",
     "text": [
      "<class 'tuple'>\n"
     ]
    }
   ],
   "source": [
    "tup2=('apple',)\n",
    "print(type(tup2))"
   ]
  },
  {
   "cell_type": "code",
   "execution_count": 4,
   "id": "8cd0ac76",
   "metadata": {},
   "outputs": [
    {
     "name": "stdout",
     "output_type": "stream",
     "text": [
      "apple\n"
     ]
    }
   ],
   "source": [
    "print(tup1[0])"
   ]
  },
  {
   "cell_type": "code",
   "execution_count": 5,
   "id": "f2007c4a",
   "metadata": {},
   "outputs": [
    {
     "name": "stdout",
     "output_type": "stream",
     "text": [
      "banana\n"
     ]
    }
   ],
   "source": [
    "print(tup1[-2])"
   ]
  },
  {
   "cell_type": "code",
   "execution_count": 6,
   "id": "149b1313",
   "metadata": {},
   "outputs": [
    {
     "name": "stdout",
     "output_type": "stream",
     "text": [
      "('apple', 'orange', 'banana')\n"
     ]
    }
   ],
   "source": [
    "print(tup1[:3])"
   ]
  },
  {
   "cell_type": "code",
   "execution_count": 7,
   "id": "7bfc98eb",
   "metadata": {},
   "outputs": [
    {
     "name": "stdout",
     "output_type": "stream",
     "text": [
      "['lemen', 'lemen']\n"
     ]
    }
   ],
   "source": [
    "print(['lemen']*2)"
   ]
  },
  {
   "cell_type": "code",
   "execution_count": 9,
   "id": "c462648e",
   "metadata": {},
   "outputs": [
    {
     "name": "stdout",
     "output_type": "stream",
     "text": [
      "1\n"
     ]
    }
   ],
   "source": [
    "print(tup1.count('apple'))"
   ]
  },
  {
   "cell_type": "code",
   "execution_count": 11,
   "id": "6440120c",
   "metadata": {},
   "outputs": [
    {
     "name": "stdout",
     "output_type": "stream",
     "text": [
      "2\n"
     ]
    }
   ],
   "source": [
    "print(tup1.index('banana'))"
   ]
  },
  {
   "cell_type": "code",
   "execution_count": 12,
   "id": "d7c75fa5",
   "metadata": {},
   "outputs": [
    {
     "name": "stdout",
     "output_type": "stream",
     "text": [
      "('apple',)\n"
     ]
    }
   ],
   "source": [
    "print(tup1[0:1])"
   ]
  },
  {
   "cell_type": "code",
   "execution_count": 13,
   "id": "b3aa3805",
   "metadata": {},
   "outputs": [
    {
     "name": "stdout",
     "output_type": "stream",
     "text": [
      "('apple', 'orange', 'banana', 'kiwi', 'guava')\n"
     ]
    }
   ],
   "source": [
    "y=list(tup1)\n",
    "y.append('guava')\n",
    "tup1=tuple(y)\n",
    "print(tup1)"
   ]
  },
  {
   "cell_type": "code",
   "execution_count": 18,
   "id": "92c1cfac",
   "metadata": {},
   "outputs": [
    {
     "name": "stdout",
     "output_type": "stream",
     "text": [
      "('cherry',)\n",
      "('apple', 'orange', 'banana', 'kiwi', 'guava', 'cherry')\n"
     ]
    }
   ],
   "source": [
    "tup4=('cherry',)\n",
    "print(tup4)\n",
    "tup1+=tup4\n",
    "print(tup1)"
   ]
  },
  {
   "cell_type": "code",
   "execution_count": 19,
   "id": "19d809d9",
   "metadata": {},
   "outputs": [
    {
     "name": "stdout",
     "output_type": "stream",
     "text": [
      "apple\n",
      "orange\n",
      "banana\n",
      "kiwi\n",
      "guava\n",
      "cherry\n"
     ]
    }
   ],
   "source": [
    "for x in tup1:\n",
    "    print(x)\n",
    "    "
   ]
  },
  {
   "cell_type": "code",
   "execution_count": null,
   "id": "b2e56cc6",
   "metadata": {},
   "outputs": [],
   "source": []
  }
 ],
 "metadata": {
  "kernelspec": {
   "display_name": "Python 3 (ipykernel)",
   "language": "python",
   "name": "python3"
  },
  "language_info": {
   "codemirror_mode": {
    "name": "ipython",
    "version": 3
   },
   "file_extension": ".py",
   "mimetype": "text/x-python",
   "name": "python",
   "nbconvert_exporter": "python",
   "pygments_lexer": "ipython3",
   "version": "3.11.4"
  }
 },
 "nbformat": 4,
 "nbformat_minor": 5
}
