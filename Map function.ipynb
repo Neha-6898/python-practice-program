{
 "cells": [
  {
   "cell_type": "code",
   "execution_count": 5,
   "id": "560f7351",
   "metadata": {},
   "outputs": [
    {
     "name": "stdout",
     "output_type": "stream",
     "text": [
      "<map object at 0x00000259C22F24A0>\n",
      "[8, 12, 16, 18]\n"
     ]
    }
   ],
   "source": [
    "#map function\n",
    "def add(a):\n",
    "    return a+a\n",
    "numbers=(4,6,8,9)\n",
    "out=map(add,numbers)\n",
    "print(out)\n",
    "add=list(out)\n",
    "print(add)"
   ]
  },
  {
   "cell_type": "code",
   "execution_count": 7,
   "id": "450dbb89",
   "metadata": {},
   "outputs": [
    {
     "name": "stdout",
     "output_type": "stream",
     "text": [
      "<map object at 0x00000259C22F0D60>\n"
     ]
    }
   ],
   "source": [
    "numbers=(4,6,8,9)\n",
    "out=map(lambda a:a*a,numbers)\n",
    "print(out)"
   ]
  },
  {
   "cell_type": "code",
   "execution_count": 8,
   "id": "e1d1f1b4",
   "metadata": {},
   "outputs": [
    {
     "name": "stdout",
     "output_type": "stream",
     "text": [
      "[16, 36, 64, 81]\n"
     ]
    }
   ],
   "source": [
    "multiply=list(out)\n",
    "print(multiply)"
   ]
  },
  {
   "cell_type": "code",
   "execution_count": 10,
   "id": "3bda0914",
   "metadata": {},
   "outputs": [
    {
     "name": "stdout",
     "output_type": "stream",
     "text": [
      "['PEN', 'BOOKS', 'PHONE']\n"
     ]
    }
   ],
   "source": [
    "map_obj=map(str.upper,['pen','books','phone'])\n",
    "print(list(map_obj))"
   ]
  },
  {
   "cell_type": "code",
   "execution_count": 11,
   "id": "c87cf4fb",
   "metadata": {},
   "outputs": [
    {
     "name": "stdout",
     "output_type": "stream",
     "text": [
      "[3, 5, 5]\n"
     ]
    }
   ],
   "source": [
    "map_obj=map(lambda x:len(list(x)),['pen','books','phone'])\n",
    "print(list(map_obj))"
   ]
  },
  {
   "cell_type": "code",
   "execution_count": null,
   "id": "fd3bcd4a",
   "metadata": {},
   "outputs": [],
   "source": []
  }
 ],
 "metadata": {
  "kernelspec": {
   "display_name": "Python 3 (ipykernel)",
   "language": "python",
   "name": "python3"
  },
  "language_info": {
   "codemirror_mode": {
    "name": "ipython",
    "version": 3
   },
   "file_extension": ".py",
   "mimetype": "text/x-python",
   "name": "python",
   "nbconvert_exporter": "python",
   "pygments_lexer": "ipython3",
   "version": "3.11.4"
  }
 },
 "nbformat": 4,
 "nbformat_minor": 5
}
