{
 "cells": [
  {
   "cell_type": "code",
   "execution_count": 2,
   "id": "6e4ea40b",
   "metadata": {},
   "outputs": [
    {
     "data": {
      "text/plain": [
       "11"
      ]
     },
     "execution_count": 2,
     "metadata": {},
     "output_type": "execute_result"
    }
   ],
   "source": [
    "#lambda fun using built in functions\n",
    "def add(a,b):\n",
    "    result=a+b\n",
    "    return result\n",
    "add(5,6)"
   ]
  },
  {
   "cell_type": "code",
   "execution_count": 6,
   "id": "366f1ec5",
   "metadata": {},
   "outputs": [
    {
     "data": {
      "text/plain": [
       "11"
      ]
     },
     "execution_count": 6,
     "metadata": {},
     "output_type": "execute_result"
    }
   ],
   "source": [
    "add=lambda a,b:a+b\n",
    "add(5,6)"
   ]
  },
  {
   "cell_type": "code",
   "execution_count": 10,
   "id": "73ca2306",
   "metadata": {},
   "outputs": [
    {
     "name": "stdout",
     "output_type": "stream",
     "text": [
      "150\n"
     ]
    }
   ],
   "source": [
    "add=lambda x : x+100\n",
    "print(add(50))"
   ]
  },
  {
   "cell_type": "code",
   "execution_count": 11,
   "id": "b0111e53",
   "metadata": {},
   "outputs": [
    {
     "data": {
      "text/plain": [
       "35"
      ]
     },
     "execution_count": 11,
     "metadata": {},
     "output_type": "execute_result"
    }
   ],
   "source": [
    "(lambda a,b:a*b)(5,7)"
   ]
  },
  {
   "cell_type": "code",
   "execution_count": 12,
   "id": "25fd3d6c",
   "metadata": {},
   "outputs": [
    {
     "name": "stdout",
     "output_type": "stream",
     "text": [
      "200\n"
     ]
    }
   ],
   "source": [
    "product=lambda x,y,z:x*y*z\n",
    "print(product(z=5,x=10,y=4))"
   ]
  },
  {
   "cell_type": "code",
   "execution_count": 13,
   "id": "53ee77e3",
   "metadata": {},
   "outputs": [
    {
     "name": "stdout",
     "output_type": "stream",
     "text": [
      "59\n"
     ]
    }
   ],
   "source": [
    "add=lambda x,y=15,z=24:x+y+z\n",
    "print(add(20))"
   ]
  },
  {
   "cell_type": "code",
   "execution_count": 14,
   "id": "c6c139d5",
   "metadata": {},
   "outputs": [
    {
     "name": "stdout",
     "output_type": "stream",
     "text": [
      "112\n"
     ]
    }
   ],
   "source": [
    "addition=lambda *args:sum(args)\n",
    "print(addition(20,2,40,50))"
   ]
  },
  {
   "cell_type": "code",
   "execution_count": 16,
   "id": "16bb5e37",
   "metadata": {},
   "outputs": [
    {
     "data": {
      "text/plain": [
       "420"
      ]
     },
     "execution_count": 16,
     "metadata": {},
     "output_type": "execute_result"
    }
   ],
   "source": [
    "higher_ord_fun=lambda x,fun:x+fun(x)\n",
    "higher_ord_fun(20,lambda x:x*x)"
   ]
  },
  {
   "cell_type": "code",
   "execution_count": 17,
   "id": "93099c4b",
   "metadata": {},
   "outputs": [
    {
     "data": {
      "text/plain": [
       "'even'"
      ]
     },
     "execution_count": 17,
     "metadata": {},
     "output_type": "execute_result"
    }
   ],
   "source": [
    "(lambda x:(x%2 and 'odd' or 'even'))(30)"
   ]
  },
  {
   "cell_type": "code",
   "execution_count": 18,
   "id": "83b041b6",
   "metadata": {},
   "outputs": [
    {
     "data": {
      "text/plain": [
       "'odd'"
      ]
     },
     "execution_count": 18,
     "metadata": {},
     "output_type": "execute_result"
    }
   ],
   "source": [
    "(lambda x:(x%2 and 'odd' or 'even'))(15)"
   ]
  },
  {
   "cell_type": "code",
   "execution_count": 19,
   "id": "44124ccd",
   "metadata": {},
   "outputs": [
    {
     "name": "stdout",
     "output_type": "stream",
     "text": [
      "True\n"
     ]
    }
   ],
   "source": [
    "sub_string=lambda string:string in \"welcome to python functions tutorial\"\n",
    "print(sub_string(\"python\"))"
   ]
  },
  {
   "cell_type": "code",
   "execution_count": 20,
   "id": "c581ebd7",
   "metadata": {},
   "outputs": [
    {
     "name": "stdout",
     "output_type": "stream",
     "text": [
      "False\n"
     ]
    }
   ],
   "source": [
    "print(sub_string(\"Python\"))"
   ]
  },
  {
   "cell_type": "code",
   "execution_count": 21,
   "id": "e8cc86f3",
   "metadata": {},
   "outputs": [
    {
     "name": "stdout",
     "output_type": "stream",
     "text": [
      "False\n"
     ]
    }
   ],
   "source": [
    "print(sub_string(\"java\"))"
   ]
  },
  {
   "cell_type": "code",
   "execution_count": 2,
   "id": "a4a2ea6a",
   "metadata": {},
   "outputs": [
    {
     "name": "stdout",
     "output_type": "stream",
     "text": [
      "[40, 56, 33, 70]\n"
     ]
    }
   ],
   "source": [
    "num=(10,40,56,27,33,15,70)\n",
    "greater=list(filter(lambda num:num>30,num))\n",
    "print(greater)"
   ]
  },
  {
   "cell_type": "code",
   "execution_count": 5,
   "id": "cfde63c1",
   "metadata": {},
   "outputs": [
    {
     "name": "stdout",
     "output_type": "stream",
     "text": [
      "[40, 56]\n"
     ]
    }
   ],
   "source": [
    "list1=[10,40,56,27,33,15,70]\n",
    "divide=list(filter(lambda x:(x%4==0),list1))\n",
    "print(divide)"
   ]
  },
  {
   "cell_type": "code",
   "execution_count": 6,
   "id": "2558d18d",
   "metadata": {},
   "outputs": [
    {
     "name": "stdout",
     "output_type": "stream",
     "text": [
      "[20, 80, 112, 54, 66, 30, 140]\n"
     ]
    }
   ],
   "source": [
    "list2=[10,40,56,27,33,15,70]\n",
    "double_the_num=list(map(lambda x:x*2, list2))\n",
    "print(double_the_num)"
   ]
  },
  {
   "cell_type": "code",
   "execution_count": 7,
   "id": "dfd8bc05",
   "metadata": {},
   "outputs": [
    {
     "data": {
      "text/plain": [
       "[8, 125, 1000, 216, 64, 1728]"
      ]
     },
     "execution_count": 7,
     "metadata": {},
     "output_type": "execute_result"
    }
   ],
   "source": [
    "list3=[2,5,10,6,4,12]\n",
    "cube=map(lambda x:pow(x,3),list3)\n",
    "list(cube)"
   ]
  },
  {
   "cell_type": "code",
   "execution_count": 8,
   "id": "5c5bd441",
   "metadata": {},
   "outputs": [
    {
     "name": "stdout",
     "output_type": "stream",
     "text": [
      "39\n"
     ]
    }
   ],
   "source": [
    "from functools import reduce\n",
    "list4=[2,5,10,6,4,12]\n",
    "sum=reduce((lambda x,y:x+y),list4)\n",
    "print(sum)"
   ]
  },
  {
   "cell_type": "code",
   "execution_count": 13,
   "id": "7f4faea3",
   "metadata": {},
   "outputs": [
    {
     "data": {
      "text/plain": [
       "10"
      ]
     },
     "execution_count": 13,
     "metadata": {},
     "output_type": "execute_result"
    }
   ],
   "source": [
    "#lambda fun using user defined function\n",
    "def quadratic(a,b,c):\n",
    "    return lambda x:a*x**2+b*x+c\n",
    "f=quadratic(2,3,5)\n",
    "f(1)"
   ]
  },
  {
   "cell_type": "code",
   "execution_count": 14,
   "id": "5bd75cad",
   "metadata": {},
   "outputs": [
    {
     "data": {
      "text/plain": [
       "19"
      ]
     },
     "execution_count": 14,
     "metadata": {},
     "output_type": "execute_result"
    }
   ],
   "source": [
    "f(2)"
   ]
  },
  {
   "cell_type": "code",
   "execution_count": null,
   "id": "3a448b5e",
   "metadata": {},
   "outputs": [],
   "source": []
  }
 ],
 "metadata": {
  "kernelspec": {
   "display_name": "Python 3 (ipykernel)",
   "language": "python",
   "name": "python3"
  },
  "language_info": {
   "codemirror_mode": {
    "name": "ipython",
    "version": 3
   },
   "file_extension": ".py",
   "mimetype": "text/x-python",
   "name": "python",
   "nbconvert_exporter": "python",
   "pygments_lexer": "ipython3",
   "version": "3.11.4"
  }
 },
 "nbformat": 4,
 "nbformat_minor": 5
}
