{
 "cells": [
  {
   "cell_type": "code",
   "execution_count": 12,
   "id": "176857e9",
   "metadata": {},
   "outputs": [
    {
     "name": "stdout",
     "output_type": "stream",
     "text": [
      "left: [8, 4] right: [9, 6]\n",
      "left: [8] right: [4]\n",
      "[4, 8]\n",
      "left: [9] right: [6]\n",
      "[6, 9]\n",
      "[4, 8, 6, 9]\n"
     ]
    }
   ],
   "source": [
    "#Merge Sort\n",
    "def mergesort(mylist):\n",
    "    if len(mylist)>1:\n",
    "        mid=len(mylist)//2\n",
    "        left=mylist[:mid]\n",
    "        right=mylist[mid:]\n",
    "        print(\"left:\",left,\"right:\",right)\n",
    "        mergesort(left)\n",
    "        mergesort(right)\n",
    "        i=0\n",
    "        j=0\n",
    "        k=0\n",
    "        while i <len(left) and j<len(right):\n",
    "            if left[i]<=right[j]:\n",
    "                mylist[k]=left[i]\n",
    "                i+=1\n",
    "            else:\n",
    "                mylist[k]=right[j]\n",
    "                j+=1\n",
    "            k+=1\n",
    "            while i<len(left):\n",
    "                mylist[k]=left[i]\n",
    "                i+=1\n",
    "                k+=1\n",
    "            while j<len(right):\n",
    "                mylist[k]=right[j]\n",
    "                j+=1\n",
    "                k+=1\n",
    "            print(mylist)\n",
    "mylist=[8,4,9,6]\n",
    "mergesort(mylist)\n",
    "\n"
   ]
  },
  {
   "cell_type": "code",
   "execution_count": null,
   "id": "8ea0d80b",
   "metadata": {},
   "outputs": [],
   "source": []
  },
  {
   "cell_type": "code",
   "execution_count": null,
   "id": "5392bedd",
   "metadata": {},
   "outputs": [],
   "source": []
  }
 ],
 "metadata": {
  "kernelspec": {
   "display_name": "Python 3 (ipykernel)",
   "language": "python",
   "name": "python3"
  },
  "language_info": {
   "codemirror_mode": {
    "name": "ipython",
    "version": 3
   },
   "file_extension": ".py",
   "mimetype": "text/x-python",
   "name": "python",
   "nbconvert_exporter": "python",
   "pygments_lexer": "ipython3",
   "version": "3.11.4"
  }
 },
 "nbformat": 4,
 "nbformat_minor": 5
}
