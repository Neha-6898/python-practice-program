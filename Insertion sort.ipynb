{
 "cells": [
  {
   "cell_type": "code",
   "execution_count": 2,
   "id": "e522365c",
   "metadata": {},
   "outputs": [
    {
     "name": "stdout",
     "output_type": "stream",
     "text": [
      "[8, 4, 6, 9, 15, 12, 11]\n",
      "[4, 8, 6, 9, 15, 12, 11]\n",
      "[4, 6, 8, 9, 15, 12, 11]\n",
      "[4, 6, 8, 9, 12, 15, 11]\n",
      "[4, 6, 8, 9, 12, 11, 15]\n",
      "[4, 6, 8, 9, 11, 12, 15]\n"
     ]
    }
   ],
   "source": [
    "#Insertion sort\n",
    "def InsertionSort(array):\n",
    "    print(array)\n",
    "    for a in range(1,len(array)):\n",
    "        b=a\n",
    "        while b>0 and array[b]<array[b-1]:\n",
    "            array[b-1],array[b]=array[b],array[b-1]\n",
    "            b-=1\n",
    "            print(array)\n",
    "array=[8,4,6,9,15,12,11]\n",
    "InsertionSort(array)"
   ]
  },
  {
   "cell_type": "code",
   "execution_count": null,
   "id": "bb6c7965",
   "metadata": {},
   "outputs": [],
   "source": []
  }
 ],
 "metadata": {
  "kernelspec": {
   "display_name": "Python 3 (ipykernel)",
   "language": "python",
   "name": "python3"
  },
  "language_info": {
   "codemirror_mode": {
    "name": "ipython",
    "version": 3
   },
   "file_extension": ".py",
   "mimetype": "text/x-python",
   "name": "python",
   "nbconvert_exporter": "python",
   "pygments_lexer": "ipython3",
   "version": "3.11.4"
  }
 },
 "nbformat": 4,
 "nbformat_minor": 5
}
