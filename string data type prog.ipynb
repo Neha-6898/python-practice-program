{
 "cells": [
  {
   "cell_type": "code",
   "execution_count": 1,
   "id": "6ca8430d",
   "metadata": {},
   "outputs": [
    {
     "name": "stdout",
     "output_type": "stream",
     "text": [
      "hii sam\n"
     ]
    }
   ],
   "source": [
    "str1=\"hii sam\"\n",
    "print(str1)"
   ]
  },
  {
   "cell_type": "code",
   "execution_count": 2,
   "id": "075b1fb3",
   "metadata": {},
   "outputs": [
    {
     "data": {
      "text/plain": [
       "str"
      ]
     },
     "execution_count": 2,
     "metadata": {},
     "output_type": "execute_result"
    }
   ],
   "source": [
    "type(str1)"
   ]
  },
  {
   "cell_type": "code",
   "execution_count": 3,
   "id": "26c2c397",
   "metadata": {},
   "outputs": [
    {
     "name": "stdout",
     "output_type": "stream",
     "text": [
      "hello neha!\n"
     ]
    },
    {
     "data": {
      "text/plain": [
       "str"
      ]
     },
     "execution_count": 3,
     "metadata": {},
     "output_type": "execute_result"
    }
   ],
   "source": [
    "str2='hello neha!'\n",
    "print(str2)\n",
    "type(str2)"
   ]
  },
  {
   "cell_type": "code",
   "execution_count": 4,
   "id": "8000dd79",
   "metadata": {},
   "outputs": [
    {
     "name": "stdout",
     "output_type": "stream",
     "text": [
      "hello everyone\n",
      "today we are learn about string\n"
     ]
    },
    {
     "data": {
      "text/plain": [
       "str"
      ]
     },
     "execution_count": 4,
     "metadata": {},
     "output_type": "execute_result"
    }
   ],
   "source": [
    "str3='''hello everyone\n",
    "today we are learn about string'''\n",
    "print(str3)\n",
    "type(str3)"
   ]
  },
  {
   "cell_type": "code",
   "execution_count": 5,
   "id": "ee0a4528",
   "metadata": {},
   "outputs": [
    {
     "data": {
      "text/plain": [
       "'w'"
      ]
     },
     "execution_count": 5,
     "metadata": {},
     "output_type": "execute_result"
    }
   ],
   "source": [
    "#indexing\n",
    "str1=\"welcome\"\n",
    "str1[0]"
   ]
  },
  {
   "cell_type": "code",
   "execution_count": 6,
   "id": "4fc30f04",
   "metadata": {},
   "outputs": [
    {
     "data": {
      "text/plain": [
       "'el'"
      ]
     },
     "execution_count": 6,
     "metadata": {},
     "output_type": "execute_result"
    }
   ],
   "source": [
    "str1[1:3]"
   ]
  },
  {
   "cell_type": "code",
   "execution_count": 8,
   "id": "32fce659",
   "metadata": {},
   "outputs": [
    {
     "ename": "IndexError",
     "evalue": "string index out of range",
     "output_type": "error",
     "traceback": [
      "\u001b[1;31m---------------------------------------------------------------------------\u001b[0m",
      "\u001b[1;31mIndexError\u001b[0m                                Traceback (most recent call last)",
      "Cell \u001b[1;32mIn[8], line 1\u001b[0m\n\u001b[1;32m----> 1\u001b[0m str1[\u001b[38;5;241m12\u001b[39m]\n",
      "\u001b[1;31mIndexError\u001b[0m: string index out of range"
     ]
    }
   ],
   "source": [
    "str1[12]"
   ]
  },
  {
   "cell_type": "code",
   "execution_count": 9,
   "id": "3f414677",
   "metadata": {},
   "outputs": [
    {
     "data": {
      "text/plain": [
       "'welcome'"
      ]
     },
     "execution_count": 9,
     "metadata": {},
     "output_type": "execute_result"
    }
   ],
   "source": [
    "#slicing operator\n",
    "str1"
   ]
  },
  {
   "cell_type": "code",
   "execution_count": 10,
   "id": "010e9365",
   "metadata": {},
   "outputs": [
    {
     "data": {
      "text/plain": [
       "'welcome'"
      ]
     },
     "execution_count": 10,
     "metadata": {},
     "output_type": "execute_result"
    }
   ],
   "source": [
    "str1[0:]"
   ]
  },
  {
   "cell_type": "code",
   "execution_count": 11,
   "id": "7c094a65",
   "metadata": {},
   "outputs": [
    {
     "data": {
      "text/plain": [
       "'elc'"
      ]
     },
     "execution_count": 11,
     "metadata": {},
     "output_type": "execute_result"
    }
   ],
   "source": [
    "str1[1:4]"
   ]
  },
  {
   "cell_type": "code",
   "execution_count": 13,
   "id": "0ffb4f0b",
   "metadata": {},
   "outputs": [
    {
     "name": "stdout",
     "output_type": "stream",
     "text": [
      "emoclew\n"
     ]
    }
   ],
   "source": [
    "print(str1[::-1])"
   ]
  },
  {
   "cell_type": "raw",
   "id": "c033e50c",
   "metadata": {},
   "source": [
    "str1"
   ]
  },
  {
   "cell_type": "code",
   "execution_count": 14,
   "id": "c5d20170",
   "metadata": {},
   "outputs": [
    {
     "data": {
      "text/plain": [
       "'e'"
      ]
     },
     "execution_count": 14,
     "metadata": {},
     "output_type": "execute_result"
    }
   ],
   "source": [
    "str1[-1]"
   ]
  },
  {
   "cell_type": "code",
   "execution_count": 15,
   "id": "400349fe",
   "metadata": {},
   "outputs": [
    {
     "data": {
      "text/plain": [
       "'me'"
      ]
     },
     "execution_count": 15,
     "metadata": {},
     "output_type": "execute_result"
    }
   ],
   "source": [
    "str1[-2:]"
   ]
  },
  {
   "cell_type": "code",
   "execution_count": 3,
   "id": "71ff32d3",
   "metadata": {},
   "outputs": [
    {
     "data": {
      "text/plain": [
       "'welcome'"
      ]
     },
     "execution_count": 3,
     "metadata": {},
     "output_type": "execute_result"
    }
   ],
   "source": [
    "#reasigned strings\n",
    "str1=\"welcome\"\n",
    "str1"
   ]
  },
  {
   "cell_type": "code",
   "execution_count": 5,
   "id": "a07b11ad",
   "metadata": {},
   "outputs": [
    {
     "ename": "TypeError",
     "evalue": "'str' object does not support item assignment",
     "output_type": "error",
     "traceback": [
      "\u001b[1;31m---------------------------------------------------------------------------\u001b[0m",
      "\u001b[1;31mTypeError\u001b[0m                                 Traceback (most recent call last)",
      "Cell \u001b[1;32mIn[5], line 1\u001b[0m\n\u001b[1;32m----> 1\u001b[0m str1[\u001b[38;5;241m3\u001b[39m]\u001b[38;5;241m=\u001b[39m\u001b[38;5;124m'\u001b[39m\u001b[38;5;124mo\u001b[39m\u001b[38;5;124m'\u001b[39m\n\u001b[0;32m      2\u001b[0m \u001b[38;5;28mprint\u001b[39m(str1)\n",
      "\u001b[1;31mTypeError\u001b[0m: 'str' object does not support item assignment"
     ]
    }
   ],
   "source": [
    "str1[3]='o'\n",
    "print(str1)"
   ]
  },
  {
   "cell_type": "code",
   "execution_count": 7,
   "id": "389dd8d8",
   "metadata": {},
   "outputs": [
    {
     "ename": "NameError",
     "evalue": "name 'str2' is not defined",
     "output_type": "error",
     "traceback": [
      "\u001b[1;31m---------------------------------------------------------------------------\u001b[0m",
      "\u001b[1;31mNameError\u001b[0m                                 Traceback (most recent call last)",
      "Cell \u001b[1;32mIn[7], line 3\u001b[0m\n\u001b[0;32m      1\u001b[0m str2\u001b[38;5;241m=\u001b[39m\u001b[38;5;124m\"\u001b[39m\u001b[38;5;124mpython programming\u001b[39m\u001b[38;5;124m\"\u001b[39m\n\u001b[0;32m      2\u001b[0m \u001b[38;5;28;01mdel\u001b[39;00m str2\n\u001b[1;32m----> 3\u001b[0m \u001b[38;5;28mprint\u001b[39m(str2)\n",
      "\u001b[1;31mNameError\u001b[0m: name 'str2' is not defined"
     ]
    }
   ],
   "source": [
    "str2=\"python programming\"\n",
    "del str2\n",
    "print(str2)"
   ]
  },
  {
   "cell_type": "code",
   "execution_count": 8,
   "id": "e9e4d93b",
   "metadata": {},
   "outputs": [
    {
     "data": {
      "text/plain": [
       "'pythonpythonpython'"
      ]
     },
     "execution_count": 8,
     "metadata": {},
     "output_type": "execute_result"
    }
   ],
   "source": [
    "#string operations\n",
    "str1=\"python\"\n",
    "str2=\"programming\"\n",
    "str1*3"
   ]
  },
  {
   "cell_type": "code",
   "execution_count": 9,
   "id": "d91fd79c",
   "metadata": {},
   "outputs": [
    {
     "data": {
      "text/plain": [
       "'pythonprogramming'"
      ]
     },
     "execution_count": 9,
     "metadata": {},
     "output_type": "execute_result"
    }
   ],
   "source": [
    "str1+str2"
   ]
  },
  {
   "cell_type": "code",
   "execution_count": 11,
   "id": "3f39d8a1",
   "metadata": {},
   "outputs": [
    {
     "name": "stdout",
     "output_type": "stream",
     "text": [
      "False\n"
     ]
    }
   ],
   "source": [
    "print('w' in str1)"
   ]
  },
  {
   "cell_type": "code",
   "execution_count": 12,
   "id": "82638670",
   "metadata": {},
   "outputs": [
    {
     "name": "stdout",
     "output_type": "stream",
     "text": [
      "True\n"
     ]
    }
   ],
   "source": [
    "print('o' in str2)"
   ]
  },
  {
   "cell_type": "code",
   "execution_count": 13,
   "id": "94332363",
   "metadata": {},
   "outputs": [
    {
     "name": "stdout",
     "output_type": "stream",
     "text": [
      "False\n"
     ]
    }
   ],
   "source": [
    "print('la' in str2)"
   ]
  },
  {
   "cell_type": "code",
   "execution_count": 16,
   "id": "3df9b443",
   "metadata": {},
   "outputs": [
    {
     "name": "stdout",
     "output_type": "stream",
     "text": [
      "c://python3.7\n"
     ]
    }
   ],
   "source": [
    "print(r'c://python3.7')"
   ]
  },
  {
   "cell_type": "code",
   "execution_count": 17,
   "id": "7d5b9810",
   "metadata": {},
   "outputs": [
    {
     "name": "stdout",
     "output_type": "stream",
     "text": [
      "isha and nisha both are best friends \n"
     ]
    }
   ],
   "source": [
    "#formatting methods\n",
    "print(\"{} and {} both are best friends \".format(\"isha\", \"nisha\"))"
   ]
  },
  {
   "cell_type": "code",
   "execution_count": 18,
   "id": "260cdafb",
   "metadata": {},
   "outputs": [
    {
     "name": "stdout",
     "output_type": "stream",
     "text": [
      "nisha and isha both are best friends \n"
     ]
    }
   ],
   "source": [
    "print(\"{1} and {0} both are best friends \".format(\"isha\", \"nisha\"))"
   ]
  },
  {
   "cell_type": "code",
   "execution_count": 20,
   "id": "45828086",
   "metadata": {},
   "outputs": [
    {
     "name": "stdout",
     "output_type": "stream",
     "text": [
      "isha and nisha both are best friends \n"
     ]
    }
   ],
   "source": [
    "print(\"{a} and {b} both are best friends \".format(a=\"isha\", b=\"nisha\"))"
   ]
  },
  {
   "cell_type": "code",
   "execution_count": 28,
   "id": "f5c1cdf4",
   "metadata": {},
   "outputs": [
    {
     "name": "stdout",
     "output_type": "stream",
     "text": [
      "her name is angel\n",
      " and salary is 10000\n"
     ]
    }
   ],
   "source": [
    "name=\"angel\"\n",
    "salary=10000\n",
    "print(\"her name is %s\\n and salary is %d\"%(name,salary))"
   ]
  },
  {
   "cell_type": "code",
   "execution_count": 30,
   "id": "cb445691",
   "metadata": {},
   "outputs": [
    {
     "name": "stdout",
     "output_type": "stream",
     "text": [
      "old value: welcome\n",
      "new value: Welcome\n"
     ]
    }
   ],
   "source": [
    "str1=\"welcome\"\n",
    "str2=str1.capitalize()\n",
    "print(\"old value:\",str1)\n",
    "print(\"new value:\",str2)"
   ]
  },
  {
   "cell_type": "code",
   "execution_count": 31,
   "id": "689fd3a2",
   "metadata": {},
   "outputs": [
    {
     "name": "stdout",
     "output_type": "stream",
     "text": [
      "old value: WELCOME\n",
      "new value: welcome\n"
     ]
    }
   ],
   "source": [
    "str1=\"WELCOME\"\n",
    "str2=str1.casefold()\n",
    "print(\"old value:\",str1)\n",
    "print(\"new value:\",str2)"
   ]
  },
  {
   "cell_type": "code",
   "execution_count": 32,
   "id": "d125733d",
   "metadata": {},
   "outputs": [
    {
     "name": "stdout",
     "output_type": "stream",
     "text": [
      "old value: WelCome\n",
      "new value: WELCOME\n"
     ]
    }
   ],
   "source": [
    "str1=\"WelCome\"\n",
    "str2=str1.upper()\n",
    "print(\"old value:\",str1)\n",
    "print(\"new value:\",str2)"
   ]
  },
  {
   "cell_type": "code",
   "execution_count": 33,
   "id": "f13c0d04",
   "metadata": {},
   "outputs": [
    {
     "name": "stdout",
     "output_type": "stream",
     "text": [
      "old value: WELCOME\n",
      "new value: welcome\n"
     ]
    }
   ],
   "source": [
    "str1=\"WELCOME\"\n",
    "str2=str1.lower()\n",
    "print(\"old value:\",str1)\n",
    "print(\"new value:\",str2)"
   ]
  },
  {
   "cell_type": "code",
   "execution_count": 34,
   "id": "3bb77073",
   "metadata": {},
   "outputs": [
    {
     "name": "stdout",
     "output_type": "stream",
     "text": [
      "old value: welcome everyone\n",
      "new value: Welcome Everyone\n"
     ]
    }
   ],
   "source": [
    "str1=\"welcome everyone\"\n",
    "str2=str1.title()\n",
    "print(\"old value:\",str1)\n",
    "print(\"new value:\",str2)"
   ]
  },
  {
   "cell_type": "code",
   "execution_count": 35,
   "id": "371f1b8d",
   "metadata": {},
   "outputs": [
    {
     "name": "stdout",
     "output_type": "stream",
     "text": [
      "occurances: 2\n"
     ]
    }
   ],
   "source": [
    "str1=\"python programming\"\n",
    "str2=str1.count('n')\n",
    "print(\"occurances:\", str2)"
   ]
  },
  {
   "cell_type": "code",
   "execution_count": 37,
   "id": "b118b5e4",
   "metadata": {},
   "outputs": [
    {
     "data": {
      "text/plain": [
       "'mumbai is located in maharashtra'"
      ]
     },
     "execution_count": 37,
     "metadata": {},
     "output_type": "execute_result"
    }
   ],
   "source": [
    "#replace\n",
    "str1=\"pune is located in maharashtra\"\n",
    "str2=str1.replace(\"pune\", \"mumbai\")\n",
    "str2"
   ]
  },
  {
   "cell_type": "code",
   "execution_count": 38,
   "id": "93996549",
   "metadata": {},
   "outputs": [
    {
     "name": "stdout",
     "output_type": "stream",
     "text": [
      "pune is located in maharashtra\n",
      "['pune', 'is', 'located', 'in', 'maharashtra']\n"
     ]
    }
   ],
   "source": [
    "#split function\n",
    "str1=\"pune is located in maharashtra\"\n",
    "str2=str1.split()\n",
    "print(str1)\n",
    "print(str2)"
   ]
  },
  {
   "cell_type": "code",
   "execution_count": null,
   "id": "b3ff5d5b",
   "metadata": {},
   "outputs": [],
   "source": []
  }
 ],
 "metadata": {
  "kernelspec": {
   "display_name": "Python 3 (ipykernel)",
   "language": "python",
   "name": "python3"
  },
  "language_info": {
   "codemirror_mode": {
    "name": "ipython",
    "version": 3
   },
   "file_extension": ".py",
   "mimetype": "text/x-python",
   "name": "python",
   "nbconvert_exporter": "python",
   "pygments_lexer": "ipython3",
   "version": "3.11.4"
  }
 },
 "nbformat": 4,
 "nbformat_minor": 5
}
