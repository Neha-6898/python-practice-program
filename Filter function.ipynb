{
 "cells": [
  {
   "cell_type": "code",
   "execution_count": 1,
   "id": "ade985dc",
   "metadata": {},
   "outputs": [
    {
     "name": "stdout",
     "output_type": "stream",
     "text": [
      "[7, 9]\n"
     ]
    }
   ],
   "source": [
    "def fil(a):\n",
    "    if a>5:\n",
    "        return a\n",
    "out=filter(fil,(1,4,7,3,9))\n",
    "print(list(out))"
   ]
  },
  {
   "cell_type": "code",
   "execution_count": 2,
   "id": "df042b53",
   "metadata": {},
   "outputs": [
    {
     "name": "stdout",
     "output_type": "stream",
     "text": [
      "[7, 9]\n"
     ]
    }
   ],
   "source": [
    "y=filter(lambda a:(a>5),(1,4,7,3,9))\n",
    "print(list(y))"
   ]
  },
  {
   "cell_type": "code",
   "execution_count": 3,
   "id": "1b8f2c7c",
   "metadata": {},
   "outputs": [
    {
     "name": "stdout",
     "output_type": "stream",
     "text": [
      "['peas', 'ginger', 'beetroot']\n"
     ]
    }
   ],
   "source": [
    "def veggies_with_e(x):\n",
    "    return 'e' in x\n",
    "map_obj=filter(veggies_with_e,['peas','garlic','ginger','beetroot','carrot'])\n",
    "print(list(map_obj))"
   ]
  },
  {
   "cell_type": "code",
   "execution_count": 4,
   "id": "cacbddf7",
   "metadata": {},
   "outputs": [
    {
     "name": "stdout",
     "output_type": "stream",
     "text": [
      "['garlic', 'ginger', 'beetroot', 'carrot']\n"
     ]
    }
   ],
   "source": [
    "map_obj=filter(lambda x:'r' in x,['peas','garlic','ginger','beetroot','carrot'])\n",
    "print(list(map_obj))"
   ]
  },
  {
   "cell_type": "code",
   "execution_count": null,
   "id": "2ad9ade4",
   "metadata": {},
   "outputs": [],
   "source": []
  }
 ],
 "metadata": {
  "kernelspec": {
   "display_name": "Python 3 (ipykernel)",
   "language": "python",
   "name": "python3"
  },
  "language_info": {
   "codemirror_mode": {
    "name": "ipython",
    "version": 3
   },
   "file_extension": ".py",
   "mimetype": "text/x-python",
   "name": "python",
   "nbconvert_exporter": "python",
   "pygments_lexer": "ipython3",
   "version": "3.11.4"
  }
 },
 "nbformat": 4,
 "nbformat_minor": 5
}
