{
 "cells": [
  {
   "cell_type": "code",
   "execution_count": 1,
   "id": "95c50cc6",
   "metadata": {},
   "outputs": [
    {
     "name": "stdout",
     "output_type": "stream",
     "text": [
      "[12, 15, 27, 33, 62]\n"
     ]
    }
   ],
   "source": [
    "#bubble Sort\n",
    "l1=[12,33,27,15,62]\n",
    "l1.sort()\n",
    "print(l1)"
   ]
  },
  {
   "cell_type": "code",
   "execution_count": 2,
   "id": "ba278654",
   "metadata": {},
   "outputs": [
    {
     "name": "stdout",
     "output_type": "stream",
     "text": [
      "[62, 33, 27, 15, 12]\n"
     ]
    }
   ],
   "source": [
    "l1=[12,33,27,15,62]\n",
    "l1.sort(reverse=True)\n",
    "print(l1)"
   ]
  },
  {
   "cell_type": "code",
   "execution_count": 5,
   "id": "40186cd6",
   "metadata": {},
   "outputs": [
    {
     "name": "stdout",
     "output_type": "stream",
     "text": [
      "j 0\n",
      "j+1 1\n",
      "[9, 8, 6, 4]\n",
      "[8, 9, 6, 4]\n",
      "j 1\n",
      "j+1 2\n",
      "[8, 9, 6, 4]\n",
      "[8, 6, 9, 4]\n",
      "j 2\n",
      "j+1 3\n",
      "[8, 6, 9, 4]\n",
      "[8, 6, 4, 9]\n",
      "j 0\n",
      "j+1 1\n",
      "[8, 6, 4, 9]\n",
      "[6, 8, 4, 9]\n",
      "j 1\n",
      "j+1 2\n",
      "[6, 8, 4, 9]\n",
      "[6, 4, 8, 9]\n",
      "j 0\n",
      "j+1 1\n",
      "[6, 4, 8, 9]\n",
      "[4, 6, 8, 9]\n",
      "sorted array:\n",
      "[4, 6, 8, 9]\n"
     ]
    }
   ],
   "source": [
    "def bubblesort(arr):\n",
    "    n=len(arr)\n",
    "    for i in range(n):\n",
    "        for j in range(0,n-i-1):\n",
    "            print(\"j\",j)\n",
    "            print(\"j+1\",j+1)\n",
    "            print(arr)\n",
    "            if arr[j]>arr[j+1]:\n",
    "                arr[j],arr[j+1]=arr[j+1],arr[j]\n",
    "                print(arr)\n",
    "elements=[9,8,6,4]\n",
    "bubblesort(elements)\n",
    "print(\"sorted array:\")\n",
    "print(elements)"
   ]
  },
  {
   "cell_type": "code",
   "execution_count": null,
   "id": "ed9f9c47",
   "metadata": {},
   "outputs": [],
   "source": []
  }
 ],
 "metadata": {
  "kernelspec": {
   "display_name": "Python 3 (ipykernel)",
   "language": "python",
   "name": "python3"
  },
  "language_info": {
   "codemirror_mode": {
    "name": "ipython",
    "version": 3
   },
   "file_extension": ".py",
   "mimetype": "text/x-python",
   "name": "python",
   "nbconvert_exporter": "python",
   "pygments_lexer": "ipython3",
   "version": "3.11.4"
  }
 },
 "nbformat": 4,
 "nbformat_minor": 5
}
