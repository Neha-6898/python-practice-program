{
 "cells": [
  {
   "cell_type": "code",
   "execution_count": 1,
   "id": "5a6084c7",
   "metadata": {},
   "outputs": [
    {
     "name": "stdout",
     "output_type": "stream",
     "text": [
      "s\n",
      "i\n",
      "m\n",
      "p\n",
      "l\n",
      "i\n",
      "l\n",
      "e\n",
      "a\n",
      "r\n",
      "n\n"
     ]
    }
   ],
   "source": [
    "#for loop\n",
    "s=\"simplilearn\"\n",
    "for i in s:\n",
    "    print(i)"
   ]
  },
  {
   "cell_type": "code",
   "execution_count": 2,
   "id": "d290131f",
   "metadata": {},
   "outputs": [
    {
     "name": "stdout",
     "output_type": "stream",
     "text": [
      "s*i*m*p*l*i*l*e*a*r*n*"
     ]
    }
   ],
   "source": [
    "s=\"simplilearn\"\n",
    "for i in s:\n",
    "    print(i, end=\"*\")"
   ]
  },
  {
   "cell_type": "code",
   "execution_count": 3,
   "id": "e3afea87",
   "metadata": {},
   "outputs": [
    {
     "name": "stdout",
     "output_type": "stream",
     "text": [
      "java\n",
      "python\n",
      "ruby\n",
      "html\n"
     ]
    }
   ],
   "source": [
    "#use for loop ina list\n",
    "programming=['java','python','ruby','html']\n",
    "for iter in programming:\n",
    "    print(iter)"
   ]
  },
  {
   "cell_type": "code",
   "execution_count": 4,
   "id": "4862ac31",
   "metadata": {},
   "outputs": [
    {
     "name": "stdout",
     "output_type": "stream",
     "text": [
      "sum= 150\n",
      "average= 30.0\n"
     ]
    }
   ],
   "source": [
    "#find average of alist of numbers\n",
    "list_num=[20,25,10,50,45]\n",
    "sum=0\n",
    "for i in list_num:\n",
    "    sum=sum+i\n",
    "print(\"sum=\", sum)\n",
    "print(\"average=\",sum/len(list_num))"
   ]
  },
  {
   "cell_type": "code",
   "execution_count": 6,
   "id": "41b441bc",
   "metadata": {},
   "outputs": [
    {
     "name": "stdout",
     "output_type": "stream",
     "text": [
      "255\n"
     ]
    }
   ],
   "source": [
    "#for loop using a tuple\n",
    "num=(30,45,60,50,70)\n",
    "sum=0\n",
    "for i in num:\n",
    "    sum=sum+i\n",
    "print(sum)"
   ]
  },
  {
   "cell_type": "code",
   "execution_count": 9,
   "id": "8642cbcf",
   "metadata": {},
   "outputs": [
    {
     "name": "stdout",
     "output_type": "stream",
     "text": [
      "1\n",
      "2\n",
      "3\n",
      "4\n",
      "5\n",
      "6\n",
      "7\n",
      "8\n",
      "9\n"
     ]
    }
   ],
   "source": [
    "#range function in python\n",
    "for i in range(1,10):\n",
    "    print(i)"
   ]
  },
  {
   "cell_type": "code",
   "execution_count": 11,
   "id": "d8fb9908",
   "metadata": {},
   "outputs": [
    {
     "name": "stdout",
     "output_type": "stream",
     "text": [
      "display values with a step size of 2: 0\n",
      "display values with a step size of 2: 2\n",
      "display values with a step size of 2: 4\n",
      "display values with a step size of 2: 6\n",
      "display values with a step size of 2: 8\n"
     ]
    }
   ],
   "source": [
    "for i in range(0,10,2):\n",
    "    print(\"display values with a step size of 2:\", i)"
   ]
  },
  {
   "cell_type": "code",
   "execution_count": 12,
   "id": "1873f3a6",
   "metadata": {},
   "outputs": [
    {
     "name": "stdout",
     "output_type": "stream",
     "text": [
      "enter the number5\n",
      "5 * 1 = 5\n",
      "5 * 2 = 10\n",
      "5 * 3 = 15\n",
      "5 * 4 = 20\n",
      "5 * 5 = 25\n",
      "5 * 6 = 30\n",
      "5 * 7 = 35\n",
      "5 * 8 = 40\n",
      "5 * 9 = 45\n",
      "5 * 10 = 50\n"
     ]
    }
   ],
   "source": [
    "#program to print table for a given number\n",
    "n=int(input(\"enter the number\"))\n",
    "for i in range(1,11):\n",
    "    mul=n*i\n",
    "    print(n,\"*\", i,\"=\",mul)\n"
   ]
  },
  {
   "cell_type": "code",
   "execution_count": 15,
   "id": "f47650df",
   "metadata": {},
   "outputs": [
    {
     "name": "stdout",
     "output_type": "stream",
     "text": [
      "hello c++\n",
      "hello java\n",
      "hello python\n",
      "hello r\n"
     ]
    }
   ],
   "source": [
    "list2=['c++','java','python','r']\n",
    "for i in range(len(list2)):\n",
    "    print(\"hello\",list2[i])\n"
   ]
  },
  {
   "cell_type": "code",
   "execution_count": 16,
   "id": "b6b80466",
   "metadata": {},
   "outputs": [
    {
     "name": "stdout",
     "output_type": "stream",
     "text": [
      "we will display each letter of google\n",
      "g\n",
      "o\n",
      "o\n",
      "g\n",
      "l\n",
      "e\n",
      "we will display each letter of apple\n",
      "a\n",
      "p\n",
      "p\n",
      "l\n",
      "e\n",
      "we will display each letter of pwc\n",
      "p\n",
      "w\n",
      "c\n",
      "we will display each letter of uber\n",
      "u\n",
      "b\n",
      "e\n",
      "r\n"
     ]
    }
   ],
   "source": [
    "#nested for loop in python\n",
    "companies=['google','apple','pwc','uber']\n",
    "for i in companies:\n",
    "    print(\"we will display each letter of \"+i)\n",
    "    for letter in i:\n",
    "        print(letter)"
   ]
  },
  {
   "cell_type": "code",
   "execution_count": 17,
   "id": "9fa2232e",
   "metadata": {},
   "outputs": [
    {
     "name": "stdout",
     "output_type": "stream",
     "text": [
      "0\n",
      "3\n",
      "6\n",
      "9\n",
      "the loop has completed execution\n"
     ]
    }
   ],
   "source": [
    "#for loop with else clause\n",
    "for i in range(0,10,3):\n",
    "    print(i)\n",
    "else:\n",
    "    print(\"the loop has completed execution\")"
   ]
  },
  {
   "cell_type": "code",
   "execution_count": 20,
   "id": "87ccfd40",
   "metadata": {},
   "outputs": [
    {
     "name": "stdout",
     "output_type": "stream",
     "text": [
      "1\n",
      "2\n",
      "3\n",
      "4\n",
      "5\n"
     ]
    }
   ],
   "source": [
    "#break \n",
    "for i in range(1,10):\n",
    "    if(i==6):\n",
    "        break\n",
    "    print(i)"
   ]
  },
  {
   "cell_type": "code",
   "execution_count": 21,
   "id": "bdd3492b",
   "metadata": {},
   "outputs": [
    {
     "name": "stdout",
     "output_type": "stream",
     "text": [
      "1\n",
      "2\n",
      "3\n",
      "4\n",
      "5\n",
      "7\n",
      "8\n",
      "9\n"
     ]
    }
   ],
   "source": [
    "#continue\n",
    "for i in range(1,10):\n",
    "    if(i==6):\n",
    "        continue\n",
    "    print(i)"
   ]
  },
  {
   "cell_type": "code",
   "execution_count": 24,
   "id": "81741cef",
   "metadata": {},
   "outputs": [
    {
     "name": "stdout",
     "output_type": "stream",
     "text": [
      "no player with that name found.\n"
     ]
    }
   ],
   "source": [
    "#program to display total goals player has scored\n",
    "player_name=\"messy\"\n",
    "goals={'raj':14,'roy':3,'rohan':7}\n",
    "for player in goals:\n",
    "    if player==player_name:\n",
    "        print(goals[player])\n",
    "        break\n",
    "else:\n",
    "    print(\"no player with that name found.\")"
   ]
  },
  {
   "cell_type": "code",
   "execution_count": 29,
   "id": "921415c2",
   "metadata": {},
   "outputs": [
    {
     "name": "stdout",
     "output_type": "stream",
     "text": [
      "[8, 125, 343, 64, 512, 216]\n"
     ]
    }
   ],
   "source": [
    "#cube ofnumber using for loop\n",
    "num=[2,5,7,4,8,6]\n",
    "cube=[]\n",
    "for i in num:\n",
    "    cube.append(i**3)\n",
    "print(cube)\n",
    "    "
   ]
  },
  {
   "cell_type": "code",
   "execution_count": 28,
   "id": "04fe556c",
   "metadata": {},
   "outputs": [
    {
     "name": "stdout",
     "output_type": "stream",
     "text": [
      "enter the number of rows6\n",
      "*\n",
      "**\n",
      "***\n",
      "****\n",
      "*****\n",
      "******\n"
     ]
    }
   ],
   "source": [
    "#pttern printing\n",
    "n=int(input(\"enter the number of rows\"))\n",
    "for i in range(0,n):\n",
    "    for j in range(0,i+1):\n",
    "        print(\"*\",end=\"\")\n",
    "    print()"
   ]
  }
 ],
 "metadata": {
  "kernelspec": {
   "display_name": "Python 3 (ipykernel)",
   "language": "python",
   "name": "python3"
  },
  "language_info": {
   "codemirror_mode": {
    "name": "ipython",
    "version": 3
   },
   "file_extension": ".py",
   "mimetype": "text/x-python",
   "name": "python",
   "nbconvert_exporter": "python",
   "pygments_lexer": "ipython3",
   "version": "3.11.4"
  }
 },
 "nbformat": 4,
 "nbformat_minor": 5
}
