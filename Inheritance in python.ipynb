{
 "cells": [
  {
   "cell_type": "code",
   "execution_count": 3,
   "id": "4959cbe9",
   "metadata": {},
   "outputs": [
    {
     "name": "stdout",
     "output_type": "stream",
     "text": [
      "homo sapiens speaking\n",
      "man talking\n"
     ]
    }
   ],
   "source": [
    "#single level inheritance\n",
    "class HomoSapiens:\n",
    "    def speak(self):\n",
    "        print(\"homo sapiens speaking\")\n",
    "class Man(HomoSapiens):\n",
    "    def talk(self):\n",
    "        print(\"man talking\")\n",
    "d=Man()\n",
    "d.speak()\n",
    "d.talk()"
   ]
  },
  {
   "cell_type": "code",
   "execution_count": 4,
   "id": "3d4fafc6",
   "metadata": {},
   "outputs": [
    {
     "name": "stdout",
     "output_type": "stream",
     "text": [
      "homo sapiens speaking\n",
      "man walking\n",
      "eating food\n"
     ]
    }
   ],
   "source": [
    "#Multilevel inheritance\n",
    "class HomoSapiens:\n",
    "    def speak(self):\n",
    "        print(\"homo sapiens speaking\")\n",
    "class Man(HomoSapiens):\n",
    "    def walk(self):\n",
    "        print(\"man walking\")\n",
    "class ManChild(Man):\n",
    "    def eat(self):\n",
    "        print(\"eating food\")\n",
    "d=ManChild()\n",
    "d.speak()\n",
    "d.walk()\n",
    "d.eat()\n",
    "\n"
   ]
  },
  {
   "cell_type": "code",
   "execution_count": 5,
   "id": "ac83d235",
   "metadata": {},
   "outputs": [
    {
     "name": "stdout",
     "output_type": "stream",
     "text": [
      "120\n",
      "-40\n",
      "3200\n"
     ]
    }
   ],
   "source": [
    "#multiple inheritance\n",
    "class Calculation1:\n",
    "    def Sum(self,x,y):\n",
    "        return x+y;\n",
    "class Calculation2:\n",
    "    def Sub(self,x,y):\n",
    "        return x-y;\n",
    "class Derived(Calculation1,Calculation2):\n",
    "    def Multi(self,x,y):\n",
    "        return x*y;\n",
    "d=Derived()\n",
    "print(d.Sum(40,80))\n",
    "print(d.Sub(40,80))\n",
    "print(d.Multi(40,80))\n"
   ]
  },
  {
   "cell_type": "code",
   "execution_count": 8,
   "id": "8d3076cf",
   "metadata": {},
   "outputs": [
    {
     "name": "stdout",
     "output_type": "stream",
     "text": [
      "channels are telecasted through antenna\n",
      "channels are telecasted through antenna\n",
      "channels are telecasted through antenna\n",
      "channels are telecasted in tv through cable connection\n",
      "videos can be teethered through output devices\n",
      "you can watch movies on OTT platform\n"
     ]
    }
   ],
   "source": [
    "#Hierarchical inheritance\n",
    "class BlackandWhiteTV:\n",
    "    def Antenna(self):\n",
    "        print(\"channels are telecasted through antenna\")\n",
    "class ColorTV(BlackandWhiteTV):\n",
    "    def CableConnection(self):\n",
    "        print(\"channels are telecasted in tv through cable connection\")\n",
    "class WifiLedTV(BlackandWhiteTV):\n",
    "    def BluetoothTeethering(self):\n",
    "        print(\"videos can be teethered through output devices\")\n",
    "class SmartTV(BlackandWhiteTV):\n",
    "    def AndroidApplications(self):\n",
    "        print(\"you can watch movies on OTT platform\")\n",
    "a1=ColorTV()\n",
    "a2=WifiLedTV()\n",
    "a3=SmartTV()\n",
    "a1.Antenna()\n",
    "a2.Antenna()\n",
    "a3.Antenna()\n",
    "a1.CableConnection()\n",
    "a2.BluetoothTeethering()\n",
    "a3.AndroidApplications()\n",
    "        \n",
    "        "
   ]
  },
  {
   "cell_type": "code",
   "execution_count": 10,
   "id": "4aac9d1b",
   "metadata": {},
   "outputs": [
    {
     "name": "stdout",
     "output_type": "stream",
     "text": [
      "Neha Kadam\n"
     ]
    }
   ],
   "source": [
    "#__init__()function\n",
    "class Person:\n",
    "    def __init__(self,fname,lname):\n",
    "        self.firstname=fname\n",
    "        self.lastname=lname\n",
    "    def printname(self):\n",
    "            print(self.firstname,self.lastname)\n",
    "            \n",
    "class Student(Person):\n",
    "    def __init__(self,fname,lname):\n",
    "        Person.__init__(self,fname,lname)\n",
    "\n",
    "x=Student(\"Neha\",\"Kadam\")\n",
    "x.printname()"
   ]
  },
  {
   "cell_type": "code",
   "execution_count": 11,
   "id": "318a0324",
   "metadata": {},
   "outputs": [
    {
     "name": "stdout",
     "output_type": "stream",
     "text": [
      "Neha Kadam\n"
     ]
    }
   ],
   "source": [
    "#super keyword\n",
    "class Person:\n",
    "    def __init__(self,fname,lname):\n",
    "        self.firstname=fname\n",
    "        self.lastname=lname\n",
    "    def printname(self):\n",
    "            print(self.firstname,self.lastname)\n",
    "            \n",
    "class Student(Person):\n",
    "    def __init__(self,fname,lname):\n",
    "        super().__init__(fname,lname)\n",
    "        \n",
    "x=Student(\"Neha\",\"Kadam\")\n",
    "x.printname()\n"
   ]
  },
  {
   "cell_type": "code",
   "execution_count": 14,
   "id": "d795c1c9",
   "metadata": {},
   "outputs": [
    {
     "name": "stdout",
     "output_type": "stream",
     "text": [
      "True\n",
      "False\n"
     ]
    }
   ],
   "source": [
    "#issubclass method  //to check which is derived class & which is not\n",
    "class Calculation1:\n",
    "    def Sum(self,a,b):\n",
    "        return a+b;\n",
    "class Calculation2:\n",
    "    def Multi(self,a,b):\n",
    "        return a*b;\n",
    "class Derived(Calculation1,Calculation2):\n",
    "    def Divi(self,a,b):\n",
    "        return a/b;\n",
    "d=Derived()\n",
    "print(issubclass(Derived,Calculation2))\n",
    "print(issubclass(Calculation1,Calculation2))"
   ]
  },
  {
   "cell_type": "code",
   "execution_count": 20,
   "id": "50c5f51a",
   "metadata": {},
   "outputs": [
    {
     "name": "stdout",
     "output_type": "stream",
     "text": [
      "True\n",
      "False\n",
      "True\n",
      "False\n"
     ]
    }
   ],
   "source": [
    "#isinstance method //to check object of which class\n",
    "class Calculation1:\n",
    "    def Sum(self,a,b):\n",
    "        return a+b;\n",
    "class Calculation2:\n",
    "    def Multi(self,a,b):\n",
    "        return a*b;\n",
    "class Derived(Calculation1,Calculation2):\n",
    "    def Divi(self,a,b):\n",
    "        return a/b;\n",
    "d=Derived()\n",
    "c=Calculation1()\n",
    "print(isinstance(d,Derived))\n",
    "print(isinstance(c,Derived))\n",
    "print(isinstance(c,Calculation1))\n",
    "print(isinstance(c,Calculation2))"
   ]
  },
  {
   "cell_type": "code",
   "execution_count": null,
   "id": "a5df6d98",
   "metadata": {},
   "outputs": [],
   "source": []
  }
 ],
 "metadata": {
  "kernelspec": {
   "display_name": "Python 3 (ipykernel)",
   "language": "python",
   "name": "python3"
  },
  "language_info": {
   "codemirror_mode": {
    "name": "ipython",
    "version": 3
   },
   "file_extension": ".py",
   "mimetype": "text/x-python",
   "name": "python",
   "nbconvert_exporter": "python",
   "pygments_lexer": "ipython3",
   "version": "3.11.4"
  }
 },
 "nbformat": 4,
 "nbformat_minor": 5
}
