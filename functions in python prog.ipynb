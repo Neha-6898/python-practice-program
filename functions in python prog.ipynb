{
 "cells": [
  {
   "cell_type": "code",
   "execution_count": 1,
   "id": "f1d4d0ae",
   "metadata": {},
   "outputs": [
    {
     "data": {
      "text/plain": [
       "10.75"
      ]
     },
     "execution_count": 1,
     "metadata": {},
     "output_type": "execute_result"
    }
   ],
   "source": [
    "#builtin function\n",
    "#abs\n",
    "a=abs(10.75)\n",
    "a"
   ]
  },
  {
   "cell_type": "code",
   "execution_count": 2,
   "id": "f832755d",
   "metadata": {},
   "outputs": [
    {
     "data": {
      "text/plain": [
       "10.75"
      ]
     },
     "execution_count": 2,
     "metadata": {},
     "output_type": "execute_result"
    }
   ],
   "source": [
    "b=abs(-10.75)\n",
    "b"
   ]
  },
  {
   "cell_type": "code",
   "execution_count": 3,
   "id": "619d3c80",
   "metadata": {},
   "outputs": [
    {
     "name": "stdout",
     "output_type": "stream",
     "text": [
      "8\n"
     ]
    }
   ],
   "source": [
    "#len\n",
    "list1=[1,2,3,4,5,6,7,10]\n",
    "x=len(list1)\n",
    "print(x)"
   ]
  },
  {
   "cell_type": "code",
   "execution_count": 4,
   "id": "92b97cf0",
   "metadata": {},
   "outputs": [
    {
     "name": "stdout",
     "output_type": "stream",
     "text": [
      "False\n"
     ]
    }
   ],
   "source": [
    "#all\n",
    "my_list=[0,1,0]\n",
    "x=all(my_list)\n",
    "print(x)"
   ]
  },
  {
   "cell_type": "code",
   "execution_count": 6,
   "id": "c0de6689",
   "metadata": {},
   "outputs": [
    {
     "name": "stdout",
     "output_type": "stream",
     "text": [
      "125\n",
      "21\n"
     ]
    }
   ],
   "source": [
    "#sum\n",
    "s=sum([20,35,70])\n",
    "s1=sum((7,5,9))\n",
    "print(s)\n",
    "print(s1)"
   ]
  },
  {
   "cell_type": "code",
   "execution_count": 2,
   "id": "1f6a2878",
   "metadata": {},
   "outputs": [
    {
     "name": "stdout",
     "output_type": "stream",
     "text": [
      "61 3\n"
     ]
    }
   ],
   "source": [
    "#max & min \n",
    "m1=max(7,10,3,12,61,40)\n",
    "m2=min(7,10,3,12,61,40)\n",
    "print(m1,m2)"
   ]
  },
  {
   "cell_type": "code",
   "execution_count": 4,
   "id": "bd163e8b",
   "metadata": {},
   "outputs": [
    {
     "name": "stdout",
     "output_type": "stream",
     "text": [
      "150 3\n"
     ]
    }
   ],
   "source": [
    "dic1=max({7,90,3,150,67,44})\n",
    "dic2=min({7,90,3,150,67,44})\n",
    "print(dic1,dic2)"
   ]
  },
  {
   "cell_type": "code",
   "execution_count": 5,
   "id": "f0698082",
   "metadata": {},
   "outputs": [
    {
     "name": "stdout",
     "output_type": "stream",
     "text": [
      "i\n"
     ]
    }
   ],
   "source": [
    "#iter\n",
    "mylist=iter(['i','n','d','i','a'])\n",
    "x=next(mylist)\n",
    "print(x)"
   ]
  },
  {
   "cell_type": "code",
   "execution_count": 6,
   "id": "4a88d253",
   "metadata": {},
   "outputs": [
    {
     "name": "stdout",
     "output_type": "stream",
     "text": [
      "n\n"
     ]
    }
   ],
   "source": [
    "x=next(mylist)\n",
    "print(x)"
   ]
  },
  {
   "cell_type": "code",
   "execution_count": 7,
   "id": "5a6cabb5",
   "metadata": {},
   "outputs": [
    {
     "name": "stdout",
     "output_type": "stream",
     "text": [
      "d\n"
     ]
    }
   ],
   "source": [
    "x=next(mylist)\n",
    "print(x)"
   ]
  },
  {
   "cell_type": "code",
   "execution_count": 8,
   "id": "05f0dcf9",
   "metadata": {},
   "outputs": [
    {
     "name": "stdout",
     "output_type": "stream",
     "text": [
      "i\n"
     ]
    }
   ],
   "source": [
    "x=next(mylist)\n",
    "print(x)"
   ]
  },
  {
   "cell_type": "code",
   "execution_count": 9,
   "id": "5d872c9b",
   "metadata": {},
   "outputs": [
    {
     "name": "stdout",
     "output_type": "stream",
     "text": [
      "27 16\n"
     ]
    }
   ],
   "source": [
    "#pow\n",
    "x1=pow(3,3)\n",
    "x2=pow(2,4)\n",
    "print(x1,x2)"
   ]
  },
  {
   "cell_type": "code",
   "execution_count": 10,
   "id": "13c265d1",
   "metadata": {},
   "outputs": [
    {
     "name": "stdout",
     "output_type": "stream",
     "text": [
      "0\n",
      "1\n",
      "2\n",
      "3\n",
      "4\n",
      "5\n"
     ]
    }
   ],
   "source": [
    "#range\n",
    "x=range(6)\n",
    "for n in x:\n",
    "    print(n)"
   ]
  },
  {
   "cell_type": "code",
   "execution_count": 11,
   "id": "c8d117c6",
   "metadata": {},
   "outputs": [
    {
     "name": "stdout",
     "output_type": "stream",
     "text": [
      "40\n",
      "42\n",
      "44\n",
      "46\n",
      "48\n"
     ]
    }
   ],
   "source": [
    "x=range(40,50,2)\n",
    "for n in x:\n",
    "    print(n)"
   ]
  },
  {
   "cell_type": "code",
   "execution_count": 12,
   "id": "cb3eac6f",
   "metadata": {},
   "outputs": [
    {
     "name": "stdout",
     "output_type": "stream",
     "text": [
      "8.62\n"
     ]
    }
   ],
   "source": [
    "#round\n",
    "x=round(8.62475,2)\n",
    "print(x)"
   ]
  },
  {
   "cell_type": "code",
   "execution_count": 14,
   "id": "f0a10496",
   "metadata": {},
   "outputs": [
    {
     "name": "stdout",
     "output_type": "stream",
     "text": [
      "['a', 'd', 'i', 'i', 'n']\n",
      "['n', 'i', 'i', 'd', 'a']\n"
     ]
    }
   ],
   "source": [
    "#sorted\n",
    "a=['i','n','d','i','a']\n",
    "x=sorted(a)\n",
    "y=sorted(a,reverse=True)  #for descending order\n",
    "print(x)\n",
    "print(y)"
   ]
  },
  {
   "cell_type": "code",
   "execution_count": 15,
   "id": "50d935e3",
   "metadata": {},
   "outputs": [
    {
     "name": "stdout",
     "output_type": "stream",
     "text": [
      "('h', 'e', 'l', 'l')\n"
     ]
    }
   ],
   "source": [
    "#slice\n",
    "a=(\"h\",\"e\",\"l\",\"l\",\"o\")\n",
    "x=slice(4)\n",
    "print(a[x])"
   ]
  },
  {
   "cell_type": "code",
   "execution_count": 16,
   "id": "7e7ae790",
   "metadata": {},
   "outputs": [
    {
     "name": "stdout",
     "output_type": "stream",
     "text": [
      "hello world\n"
     ]
    }
   ],
   "source": [
    "#User defined functions\n",
    "def func1():\n",
    "    print(\"hello world\")\n",
    "func1()"
   ]
  },
  {
   "cell_type": "code",
   "execution_count": 19,
   "id": "4ff62cdd",
   "metadata": {},
   "outputs": [
    {
     "name": "stdout",
     "output_type": "stream",
     "text": [
      "enter your country name: india\n",
      "hello india\n"
     ]
    }
   ],
   "source": [
    "def hello():\n",
    "    name=str(input(\"enter your country name: \"))\n",
    "    print(\"hello \"+str(name))\n",
    "hello()"
   ]
  },
  {
   "cell_type": "code",
   "execution_count": 20,
   "id": "da7a6764",
   "metadata": {},
   "outputs": [
    {
     "data": {
      "text/plain": [
       "182.88"
      ]
     },
     "execution_count": 20,
     "metadata": {},
     "output_type": "execute_result"
    }
   ],
   "source": [
    "#with argument\n",
    "def ft_to_cm(ft):\n",
    "    centemeter=ft*30.48\n",
    "    return centemeter\n",
    "ft_to_cm(6)"
   ]
  },
  {
   "cell_type": "code",
   "execution_count": 21,
   "id": "b35c00b5",
   "metadata": {},
   "outputs": [
    {
     "name": "stdout",
     "output_type": "stream",
     "text": [
      "100\n"
     ]
    }
   ],
   "source": [
    "#with multilple argument\n",
    "def add(x,y):\n",
    "    sum=x+y\n",
    "    print(sum)\n",
    "add(50,50)"
   ]
  },
  {
   "cell_type": "code",
   "execution_count": 22,
   "id": "525c0a26",
   "metadata": {},
   "outputs": [
    {
     "name": "stdout",
     "output_type": "stream",
     "text": [
      "10\n"
     ]
    }
   ],
   "source": [
    "add(-20,30)"
   ]
  },
  {
   "cell_type": "code",
   "execution_count": 24,
   "id": "492ea5f4",
   "metadata": {},
   "outputs": [
    {
     "name": "stdout",
     "output_type": "stream",
     "text": [
      "70\n"
     ]
    }
   ],
   "source": [
    "def mult(x,y):\n",
    "    product=x*y\n",
    "    print(product)\n",
    "mult(35,2)"
   ]
  },
  {
   "cell_type": "code",
   "execution_count": 25,
   "id": "33cae82f",
   "metadata": {},
   "outputs": [
    {
     "name": "stdout",
     "output_type": "stream",
     "text": [
      "56\n"
     ]
    }
   ],
   "source": [
    "def absolute(x):\n",
    "    if x>=0:\n",
    "        return x\n",
    "    else:\n",
    "        return -x\n",
    "print(absolute(56))"
   ]
  },
  {
   "cell_type": "code",
   "execution_count": 26,
   "id": "26586777",
   "metadata": {},
   "outputs": [
    {
     "name": "stdout",
     "output_type": "stream",
     "text": [
      "56\n"
     ]
    }
   ],
   "source": [
    "print(absolute(-56))"
   ]
  },
  {
   "cell_type": "code",
   "execution_count": 27,
   "id": "3c5f4fda",
   "metadata": {},
   "outputs": [
    {
     "name": "stdout",
     "output_type": "stream",
     "text": [
      "56\n"
     ]
    }
   ],
   "source": [
    "def absolute(x):\n",
    "    if x>=0:\n",
    "        return x\n",
    "    else:\n",
    "        return -(-x)\n",
    "print(absolute(56))"
   ]
  },
  {
   "cell_type": "code",
   "execution_count": 28,
   "id": "91a36acb",
   "metadata": {},
   "outputs": [
    {
     "name": "stdout",
     "output_type": "stream",
     "text": [
      "-56\n"
     ]
    }
   ],
   "source": [
    "print(absolute(-56))"
   ]
  },
  {
   "cell_type": "code",
   "execution_count": 32,
   "id": "d11a5776",
   "metadata": {},
   "outputs": [
    {
     "data": {
      "text/plain": [
       "120"
      ]
     },
     "execution_count": 32,
     "metadata": {},
     "output_type": "execute_result"
    }
   ],
   "source": [
    "def factorial(x):\n",
    "    if x==0:\n",
    "        return 1\n",
    "    else:\n",
    "        return x*factorial(x-1)\n",
    "factorial(5)"
   ]
  },
  {
   "cell_type": "code",
   "execution_count": 33,
   "id": "2a5cc516",
   "metadata": {},
   "outputs": [
    {
     "data": {
      "text/plain": [
       "5040"
      ]
     },
     "execution_count": 33,
     "metadata": {},
     "output_type": "execute_result"
    }
   ],
   "source": [
    "\n",
    "factorial(7)"
   ]
  },
  {
   "cell_type": "code",
   "execution_count": 34,
   "id": "6872e4ca",
   "metadata": {},
   "outputs": [
    {
     "data": {
      "text/plain": [
       "1"
      ]
     },
     "execution_count": 34,
     "metadata": {},
     "output_type": "execute_result"
    }
   ],
   "source": [
    "factorial(1)"
   ]
  },
  {
   "cell_type": "code",
   "execution_count": 35,
   "id": "0b9e6055",
   "metadata": {},
   "outputs": [
    {
     "data": {
      "text/plain": [
       "1"
      ]
     },
     "execution_count": 35,
     "metadata": {},
     "output_type": "execute_result"
    }
   ],
   "source": [
    "factorial(0)"
   ]
  },
  {
   "cell_type": "code",
   "execution_count": 36,
   "id": "1b2062bf",
   "metadata": {},
   "outputs": [
    {
     "name": "stdout",
     "output_type": "stream",
     "text": [
      "hello neha\n"
     ]
    }
   ],
   "source": [
    "#default arguments\n",
    "def welcome(name='neha'):\n",
    "    print(\"hello\",name)\n",
    "welcome()"
   ]
  },
  {
   "cell_type": "code",
   "execution_count": 37,
   "id": "d9cd952a",
   "metadata": {},
   "outputs": [
    {
     "name": "stdout",
     "output_type": "stream",
     "text": [
      "hello isha\n"
     ]
    }
   ],
   "source": [
    "welcome(\"isha\")"
   ]
  },
  {
   "cell_type": "code",
   "execution_count": 39,
   "id": "f237ab4b",
   "metadata": {},
   "outputs": [
    {
     "name": "stdout",
     "output_type": "stream",
     "text": [
      "hello  Salman plese tell shahrukh that amir is waiting\n"
     ]
    }
   ],
   "source": [
    "def message(name1,name2,name3):\n",
    "    print(\"hello \",name1, \"plese tell\", name2, \"that\", name3, \"is waiting\")\n",
    "message(\"Salman\",\"shahrukh\",\"amir\")"
   ]
  },
  {
   "cell_type": "code",
   "execution_count": 40,
   "id": "c8fe4bb0",
   "metadata": {},
   "outputs": [
    {
     "name": "stdout",
     "output_type": "stream",
     "text": [
      "7\n"
     ]
    }
   ],
   "source": [
    "#scope of variable\n",
    "def func3():\n",
    "    z=7\n",
    "    print(z)\n",
    "func3()"
   ]
  },
  {
   "cell_type": "code",
   "execution_count": 41,
   "id": "31bc3721",
   "metadata": {},
   "outputs": [
    {
     "ename": "NameError",
     "evalue": "name 'z' is not defined",
     "output_type": "error",
     "traceback": [
      "\u001b[1;31m---------------------------------------------------------------------------\u001b[0m",
      "\u001b[1;31mNameError\u001b[0m                                 Traceback (most recent call last)",
      "Cell \u001b[1;32mIn[41], line 1\u001b[0m\n\u001b[1;32m----> 1\u001b[0m z\n",
      "\u001b[1;31mNameError\u001b[0m: name 'z' is not defined"
     ]
    }
   ],
   "source": [
    "z# variable is defined in inside function so we cant use it outside the function"
   ]
  },
  {
   "cell_type": "code",
   "execution_count": 42,
   "id": "3d612654",
   "metadata": {},
   "outputs": [
    {
     "name": "stdout",
     "output_type": "stream",
     "text": [
      "7\n"
     ]
    }
   ],
   "source": [
    "z=7\n",
    "def func3():\n",
    "    z=7\n",
    "    print(z)\n",
    "func3()"
   ]
  },
  {
   "cell_type": "code",
   "execution_count": 43,
   "id": "84426c75",
   "metadata": {},
   "outputs": [
    {
     "data": {
      "text/plain": [
       "7"
      ]
     },
     "execution_count": 43,
     "metadata": {},
     "output_type": "execute_result"
    }
   ],
   "source": [
    "z #here error not occures bcz we declair variable globally "
   ]
  },
  {
   "cell_type": "code",
   "execution_count": 44,
   "id": "dd82a7ea",
   "metadata": {},
   "outputs": [
    {
     "ename": "UnboundLocalError",
     "evalue": "cannot access local variable 'z' where it is not associated with a value",
     "output_type": "error",
     "traceback": [
      "\u001b[1;31m---------------------------------------------------------------------------\u001b[0m",
      "\u001b[1;31mUnboundLocalError\u001b[0m                         Traceback (most recent call last)",
      "Cell \u001b[1;32mIn[44], line 5\u001b[0m\n\u001b[0;32m      3\u001b[0m     z\u001b[38;5;241m=\u001b[39mz\u001b[38;5;241m+\u001b[39m\u001b[38;5;241m1\u001b[39m\n\u001b[0;32m      4\u001b[0m     \u001b[38;5;28mprint\u001b[39m(z)\n\u001b[1;32m----> 5\u001b[0m func4()\n",
      "Cell \u001b[1;32mIn[44], line 3\u001b[0m, in \u001b[0;36mfunc4\u001b[1;34m()\u001b[0m\n\u001b[0;32m      2\u001b[0m \u001b[38;5;28;01mdef\u001b[39;00m \u001b[38;5;21mfunc4\u001b[39m():\n\u001b[1;32m----> 3\u001b[0m     z\u001b[38;5;241m=\u001b[39mz\u001b[38;5;241m+\u001b[39m\u001b[38;5;241m1\u001b[39m\n\u001b[0;32m      4\u001b[0m     \u001b[38;5;28mprint\u001b[39m(z)\n",
      "\u001b[1;31mUnboundLocalError\u001b[0m: cannot access local variable 'z' where it is not associated with a value"
     ]
    }
   ],
   "source": [
    "z=7\n",
    "def func4():\n",
    "    z=z+1\n",
    "    print(z)\n",
    "func4() #cant change value inside function"
   ]
  },
  {
   "cell_type": "code",
   "execution_count": 45,
   "id": "b2be9118",
   "metadata": {},
   "outputs": [
    {
     "name": "stdout",
     "output_type": "stream",
     "text": [
      "8\n"
     ]
    }
   ],
   "source": [
    "z=7\n",
    "def func4():\n",
    "    global z\n",
    "    z=z+1\n",
    "    print(z)\n",
    "func4()"
   ]
  },
  {
   "cell_type": "code",
   "execution_count": 47,
   "id": "cbfc8d79",
   "metadata": {},
   "outputs": [
    {
     "name": "stdout",
     "output_type": "stream",
     "text": [
      "hello neha ,  riya ,  isha\n"
     ]
    }
   ],
   "source": [
    "#use * when no of argument isnot known\n",
    "def welcome(*names):\n",
    "    print(\"hello\", names[0], ', ', names[1], ', ', names[2])\n",
    "welcome(\"neha\",\"riya\",\"isha\")"
   ]
  },
  {
   "cell_type": "code",
   "execution_count": 50,
   "id": "ec7bdaa0",
   "metadata": {
    "scrolled": false
   },
   "outputs": [
    {
     "name": "stdout",
     "output_type": "stream",
     "text": [
      "circle area with radious 15: 706.5\n",
      "spherearea area with radious 10: 2826.0\n"
     ]
    }
   ],
   "source": [
    "pi=3.14\n",
    "def circlearea(radious):\n",
    "    return pi*radious*radious\n",
    "def spherearea(radious):\n",
    "    return 4*pi*radious*radious\n",
    "def main():\n",
    "    print(\"circle area with radious 15:\",circlearea(15))\n",
    "    print(\"spherearea area with radious 10:\",spherearea(15))\n",
    "main()"
   ]
  },
  {
   "cell_type": "code",
   "execution_count": null,
   "id": "643ecf48",
   "metadata": {},
   "outputs": [],
   "source": []
  }
 ],
 "metadata": {
  "kernelspec": {
   "display_name": "Python 3 (ipykernel)",
   "language": "python",
   "name": "python3"
  },
  "language_info": {
   "codemirror_mode": {
    "name": "ipython",
    "version": 3
   },
   "file_extension": ".py",
   "mimetype": "text/x-python",
   "name": "python",
   "nbconvert_exporter": "python",
   "pygments_lexer": "ipython3",
   "version": "3.11.4"
  }
 },
 "nbformat": 4,
 "nbformat_minor": 5
}
