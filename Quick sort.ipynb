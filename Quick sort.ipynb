{
 "cells": [
  {
   "cell_type": "code",
   "execution_count": 4,
   "id": "673675f1",
   "metadata": {},
   "outputs": [
    {
     "name": "stdout",
     "output_type": "stream",
     "text": [
      "[40, 21, 8, 17, 51, 34]\n",
      "pivot 34\n",
      "j 3 arr[j] 17\n",
      "[17, 21, 8, 40, 51, 34]\n",
      "i 1 arr[i] 21\n",
      "i 2 arr[i] 8\n",
      "i 3 arr[i] 40\n",
      "j 2 arr[j] 8\n",
      "[17, 21, 8, 34, 51, 40]\n",
      "pivot 8\n",
      "j 0 arr[j] 17\n",
      "[8, 21, 17, 34, 51, 40]\n",
      "pivot 17\n",
      "[8, 17, 21, 34, 51, 40]\n",
      "pivot 40\n",
      "[8, 17, 21, 34, 40, 51]\n"
     ]
    }
   ],
   "source": [
    "#Quick sort\n",
    "def quicksort(array,left,right):\n",
    "    if left<right:\n",
    "        pi=partition(array,left,right)\n",
    "        quicksort(array,left,pi-1)\n",
    "        quicksort(array,pi+1,right)\n",
    "def partition(arr,left,right):\n",
    "    i=left\n",
    "    j=right-1\n",
    "    pivot=arr[right]\n",
    "    print(\"pivot\",pivot)\n",
    "    while i<j:\n",
    "        while i<right and arr[i]<pivot:\n",
    "            i+=1\n",
    "            print(\"i\",i,\"arr[i]\",arr[i])\n",
    "        while j>left and arr[j]>=pivot:\n",
    "            j-=1\n",
    "            print(\"j\",j,\"arr[j]\",arr[j])\n",
    "        if i<j:\n",
    "            arr[i],arr[j]=arr[j],arr[i]\n",
    "            print(arr)\n",
    "    if arr[i]>pivot:\n",
    "        arr[i],arr[right]=arr[right],arr[i]\n",
    "        print(arr)\n",
    "    return i\n",
    "data=[40,21,8,17,51,34]\n",
    "print(data)\n",
    "quicksort(data,0,len(data)-1)"
   ]
  },
  {
   "cell_type": "code",
   "execution_count": null,
   "id": "1361b5bd",
   "metadata": {},
   "outputs": [],
   "source": []
  }
 ],
 "metadata": {
  "kernelspec": {
   "display_name": "Python 3 (ipykernel)",
   "language": "python",
   "name": "python3"
  },
  "language_info": {
   "codemirror_mode": {
    "name": "ipython",
    "version": 3
   },
   "file_extension": ".py",
   "mimetype": "text/x-python",
   "name": "python",
   "nbconvert_exporter": "python",
   "pygments_lexer": "ipython3",
   "version": "3.11.4"
  }
 },
 "nbformat": 4,
 "nbformat_minor": 5
}
