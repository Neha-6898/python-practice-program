{
 "cells": [
  {
   "cell_type": "code",
   "execution_count": 1,
   "id": "ec6c918a",
   "metadata": {},
   "outputs": [
    {
     "data": {
      "text/plain": [
       "50"
      ]
     },
     "execution_count": 1,
     "metadata": {},
     "output_type": "execute_result"
    }
   ],
   "source": [
    "#simple class\n",
    "class NewClass:\n",
    "    x=50\n",
    "NewClass.x"
   ]
  },
  {
   "cell_type": "code",
   "execution_count": 2,
   "id": "4d35a000",
   "metadata": {},
   "outputs": [
    {
     "name": "stdout",
     "output_type": "stream",
     "text": [
      "100\n"
     ]
    }
   ],
   "source": [
    "#simple class\n",
    "class NewClass1:\n",
    "    x=100\n",
    "#create obj\n",
    "r=NewClass1()\n",
    "print(r.x)"
   ]
  },
  {
   "cell_type": "code",
   "execution_count": 3,
   "id": "e5211c08",
   "metadata": {},
   "outputs": [
    {
     "name": "stdout",
     "output_type": "stream",
     "text": [
      "10 neha\n"
     ]
    }
   ],
   "source": [
    "#self parameter in a class\n",
    "class Student:\n",
    "    id=10\n",
    "    name=\"neha\"\n",
    "    def display(self):\n",
    "        print(self.id,self.name,)\n",
    "s=Student()\n",
    "s.display()"
   ]
  },
  {
   "cell_type": "code",
   "execution_count": 5,
   "id": "84656e01",
   "metadata": {},
   "outputs": [
    {
     "name": "stdout",
     "output_type": "stream",
     "text": [
      "24\n",
      "<function Student.welcome at 0x000002CF6A512160>\n",
      "this is a student class\n"
     ]
    }
   ],
   "source": [
    "#doc string\n",
    "class Student:\n",
    "    \"this is a student class\"\n",
    "    age=24\n",
    "    def welcome(self):\n",
    "        print(\"hi, welcome to section b\")\n",
    "print(Student.age)\n",
    "print(Student.welcome)\n",
    "print(Student.__doc__)\n",
    "    "
   ]
  },
  {
   "cell_type": "code",
   "execution_count": 6,
   "id": "b553119c",
   "metadata": {},
   "outputs": [
    {
     "name": "stdout",
     "output_type": "stream",
     "text": [
      "neha\n",
      "06/08/1998\n"
     ]
    }
   ],
   "source": [
    "#init function in a class\n",
    "class Student:\n",
    "    def __init__(self,name,dob):\n",
    "        self.name=name\n",
    "        self.dob=dob\n",
    "s1=Student(\"neha\",\"06/08/1998\")\n",
    "print(s1.name)\n",
    "print(s1.dob)"
   ]
  },
  {
   "cell_type": "code",
   "execution_count": 7,
   "id": "3deb1633",
   "metadata": {},
   "outputs": [
    {
     "name": "stdout",
     "output_type": "stream",
     "text": [
      "virat\n"
     ]
    }
   ],
   "source": [
    "#modify objects\n",
    "s1.name=\"virat\"\n",
    "print(s1.name)"
   ]
  },
  {
   "cell_type": "code",
   "execution_count": 8,
   "id": "44801c3a",
   "metadata": {},
   "outputs": [
    {
     "ename": "AttributeError",
     "evalue": "'Student' object has no attribute 'name'",
     "output_type": "error",
     "traceback": [
      "\u001b[1;31m---------------------------------------------------------------------------\u001b[0m",
      "\u001b[1;31mAttributeError\u001b[0m                            Traceback (most recent call last)",
      "Cell \u001b[1;32mIn[8], line 3\u001b[0m\n\u001b[0;32m      1\u001b[0m \u001b[38;5;66;03m#delete property\u001b[39;00m\n\u001b[0;32m      2\u001b[0m \u001b[38;5;28;01mdel\u001b[39;00m s1\u001b[38;5;241m.\u001b[39mname\n\u001b[1;32m----> 3\u001b[0m \u001b[38;5;28mprint\u001b[39m(s1\u001b[38;5;241m.\u001b[39mname)\n",
      "\u001b[1;31mAttributeError\u001b[0m: 'Student' object has no attribute 'name'"
     ]
    }
   ],
   "source": [
    "#delete property\n",
    "del s1.name\n",
    "print(s1.name)"
   ]
  },
  {
   "cell_type": "code",
   "execution_count": 9,
   "id": "863a5d5b",
   "metadata": {},
   "outputs": [
    {
     "ename": "NameError",
     "evalue": "name 's1' is not defined",
     "output_type": "error",
     "traceback": [
      "\u001b[1;31m---------------------------------------------------------------------------\u001b[0m",
      "\u001b[1;31mNameError\u001b[0m                                 Traceback (most recent call last)",
      "Cell \u001b[1;32mIn[9], line 3\u001b[0m\n\u001b[0;32m      1\u001b[0m \u001b[38;5;66;03m#delete object\u001b[39;00m\n\u001b[0;32m      2\u001b[0m \u001b[38;5;28;01mdel\u001b[39;00m s1\n\u001b[1;32m----> 3\u001b[0m \u001b[38;5;28mprint\u001b[39m(s1\u001b[38;5;241m.\u001b[39mdob)\n",
      "\u001b[1;31mNameError\u001b[0m: name 's1' is not defined"
     ]
    }
   ],
   "source": [
    "#delete object\n",
    "del s1\n",
    "print(s1.dob)"
   ]
  },
  {
   "cell_type": "code",
   "execution_count": 11,
   "id": "e95a9460",
   "metadata": {},
   "outputs": [
    {
     "name": "stdout",
     "output_type": "stream",
     "text": [
      "hi, my name is puppy\n"
     ]
    }
   ],
   "source": [
    "class animal:\n",
    "    def __init__(self,name):\n",
    "        self.name=name\n",
    "    def greet(self):\n",
    "        print(\"hi, my name is\",self.name)\n",
    "a1=animal(\"puppy\")\n",
    "a1.greet()"
   ]
  },
  {
   "cell_type": "code",
   "execution_count": null,
   "id": "a42c86b0",
   "metadata": {},
   "outputs": [],
   "source": []
  }
 ],
 "metadata": {
  "kernelspec": {
   "display_name": "Python 3 (ipykernel)",
   "language": "python",
   "name": "python3"
  },
  "language_info": {
   "codemirror_mode": {
    "name": "ipython",
    "version": 3
   },
   "file_extension": ".py",
   "mimetype": "text/x-python",
   "name": "python",
   "nbconvert_exporter": "python",
   "pygments_lexer": "ipython3",
   "version": "3.11.4"
  }
 },
 "nbformat": 4,
 "nbformat_minor": 5
}
