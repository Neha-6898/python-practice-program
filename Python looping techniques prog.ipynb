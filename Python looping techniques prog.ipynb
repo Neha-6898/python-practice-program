{
 "cells": [
  {
   "cell_type": "code",
   "execution_count": 1,
   "id": "51abc797",
   "metadata": {},
   "outputs": [
    {
     "name": "stdout",
     "output_type": "stream",
     "text": [
      "2\n",
      "4\n",
      "5\n",
      "10\n",
      "36\n",
      "49\n",
      "50\n"
     ]
    }
   ],
   "source": [
    "#for loops\n",
    "#value o list in ascending order using sorted method with for loop\n",
    "num=[2,5,10,4,36,50,49]\n",
    "for i in sorted(num):\n",
    "    print(i)"
   ]
  },
  {
   "cell_type": "code",
   "execution_count": 2,
   "id": "01c3eaf7",
   "metadata": {},
   "outputs": [
    {
     "name": "stdout",
     "output_type": "stream",
     "text": [
      "50\n",
      "49\n",
      "36\n",
      "10\n",
      "5\n",
      "4\n",
      "2\n"
     ]
    }
   ],
   "source": [
    "#value o list in ascending order using sorted method with for loop\n",
    "num=[2,5,10,4,36,50,49]\n",
    "for i in sorted(num, reverse=True):\n",
    "    print(i)"
   ]
  },
  {
   "cell_type": "code",
   "execution_count": 3,
   "id": "7340d168",
   "metadata": {},
   "outputs": [
    {
     "name": "stdout",
     "output_type": "stream",
     "text": [
      "salah\n",
      "ronaldo\n",
      "messy\n",
      "harry\n"
     ]
    }
   ],
   "source": [
    "players=[\"messy\",\"ronaldo\",\"salah\",\"harry\"]\n",
    "for i in sorted(players,reverse=True):\n",
    "    print(i)"
   ]
  },
  {
   "cell_type": "code",
   "execution_count": 4,
   "id": "f77d0baa",
   "metadata": {},
   "outputs": [
    {
     "name": "stdout",
     "output_type": "stream",
     "text": [
      "('a', 3)\n",
      "('b', 4)\n",
      "('c', 2)\n",
      "('e', 9)\n",
      "('f', 1)\n"
     ]
    }
   ],
   "source": [
    "d={'f':1,'b':4, 'a':3, 'e':9, 'c':2}\n",
    "for i in sorted(d.items()):\n",
    "    print(i)"
   ]
  },
  {
   "cell_type": "code",
   "execution_count": 5,
   "id": "d47067db",
   "metadata": {},
   "outputs": [
    {
     "name": "stdout",
     "output_type": "stream",
     "text": [
      "a\n",
      "b\n",
      "c\n",
      "e\n",
      "f\n"
     ]
    }
   ],
   "source": [
    "d={'f':1,'b':4, 'a':3, 'e':9, 'c':2}\n",
    "for i in sorted(d.keys()):\n",
    "    print(i)"
   ]
  },
  {
   "cell_type": "code",
   "execution_count": 6,
   "id": "d39c69cc",
   "metadata": {},
   "outputs": [
    {
     "name": "stdout",
     "output_type": "stream",
     "text": [
      "1\n",
      "2\n",
      "3\n",
      "4\n",
      "9\n"
     ]
    }
   ],
   "source": [
    "d={'f':1,'b':4, 'a':3, 'e':9, 'c':2}\n",
    "for i in sorted(d.values()):\n",
    "    print(i)"
   ]
  },
  {
   "cell_type": "code",
   "execution_count": 8,
   "id": "44f23057",
   "metadata": {},
   "outputs": [
    {
     "name": "stdout",
     "output_type": "stream",
     "text": [
      "harry\n",
      "salah\n",
      "ronaldo\n",
      "messy\n"
     ]
    }
   ],
   "source": [
    "players=[\"messy\",\"ronaldo\",\"salah\",\"harry\"]\n",
    "for i in reversed(players):\n",
    "    print(i)"
   ]
  },
  {
   "cell_type": "code",
   "execution_count": 10,
   "id": "aa4386cd",
   "metadata": {},
   "outputs": [
    {
     "name": "stdout",
     "output_type": "stream",
     "text": [
      "{'name': 'lion', 'age': 30}\n",
      "{'name': 'leopard', 'age': 18}\n"
     ]
    }
   ],
   "source": [
    "animals=[{\"name\":\"dog\", \"age\":11},{\"name\":\"lion\", \"age\":30},{\"name\":\"elephant\", \"age\":63},{\"name\":\"leopard\", \"age\":18}]\n",
    "for animals in filter(lambda i:i[\"age\"]%2==0,animals):\n",
    "    print(animals)"
   ]
  },
  {
   "cell_type": "code",
   "execution_count": 11,
   "id": "2a3950ba",
   "metadata": {},
   "outputs": [
    {
     "name": "stdout",
     "output_type": "stream",
     "text": [
      "istrail\n",
      "japan\n",
      "brazil\n",
      "canda\n",
      "india\n"
     ]
    }
   ],
   "source": [
    "#While loop\n",
    "country=['india','canda','brazil','japan','istrail']\n",
    "while country:\n",
    "    print(country.pop(-1))"
   ]
  },
  {
   "cell_type": "code",
   "execution_count": 12,
   "id": "34472b8c",
   "metadata": {},
   "outputs": [
    {
     "data": {
      "text/plain": [
       "[]"
      ]
     },
     "execution_count": 12,
     "metadata": {},
     "output_type": "execute_result"
    }
   ],
   "source": [
    "country"
   ]
  },
  {
   "cell_type": "code",
   "execution_count": 13,
   "id": "67f605f8",
   "metadata": {},
   "outputs": [
    {
     "name": "stdout",
     "output_type": "stream",
     "text": [
      "9\n",
      "8\n",
      "7\n",
      "6\n",
      "5\n",
      "4\n",
      "3\n",
      "2\n",
      "1\n",
      "0\n"
     ]
    }
   ],
   "source": [
    "num=10\n",
    "while num>0:num=num-1;print(num)"
   ]
  },
  {
   "cell_type": "code",
   "execution_count": null,
   "id": "e1c0b6d6",
   "metadata": {},
   "outputs": [
    {
     "name": "stdout",
     "output_type": "stream",
     "text": [
      "enter an integer:10\n",
      "the product of 10 multiplied by 5 is 50\n",
      "enter an integer:7\n",
      "the product of 7 multiplied by 5 is 35\n"
     ]
    }
   ],
   "source": [
    "while True:\n",
    "    num=int(input(\"enter an integer:\"))\n",
    "    print(\"the product of\",num,\"multiplied by 5 is\", 5*num)"
   ]
  },
  {
   "cell_type": "code",
   "execution_count": 22,
   "id": "8d2f6e9c",
   "metadata": {},
   "outputs": [
    {
     "name": "stdout",
     "output_type": "stream",
     "text": [
      "(0, 'the')\n",
      "(1, 'brown')\n",
      "(2, 'for')\n",
      "(3, 'jumped')\n",
      "(4, 'over')\n",
      "(5, 'the')\n",
      "(6, 'lazy')\n",
      "(7, 'dog')\n",
      "(8, '.')\n"
     ]
    }
   ],
   "source": [
    "#enumerate function\n",
    "for i in enumerate(['the','brown','for','jumped','over','the','lazy','dog','.']):\n",
    "    print(i)"
   ]
  },
  {
   "cell_type": "code",
   "execution_count": 24,
   "id": "d8d70ce4",
   "metadata": {},
   "outputs": [
    {
     "name": "stdout",
     "output_type": "stream",
     "text": [
      "0 the\n",
      "1 brown\n",
      "2 for\n",
      "3 jumped\n",
      "4 over\n",
      "5 the\n",
      "6 lazy\n",
      "7 dog\n",
      "8 .\n"
     ]
    }
   ],
   "source": [
    "for key,value in enumerate(['the','brown','for','jumped','over','the','lazy','dog','.']):\n",
    "    print(key,value)"
   ]
  },
  {
   "cell_type": "code",
   "execution_count": 27,
   "id": "d96e06f3",
   "metadata": {},
   "outputs": [
    {
     "name": "stdout",
     "output_type": "stream",
     "text": [
      "the brown for jumped over the lazy dog . "
     ]
    }
   ],
   "source": [
    "for key,value in enumerate(['the','brown','for','jumped','over','the','lazy','dog','.']):\n",
    "    print(value, end=' ')"
   ]
  },
  {
   "cell_type": "code",
   "execution_count": 28,
   "id": "947a4125",
   "metadata": {},
   "outputs": [
    {
     "name": "stdout",
     "output_type": "stream",
     "text": [
      "0 s\n",
      "1 i\n",
      "2 m\n",
      "3 p\n",
      "4 l\n",
      "5 i\n",
      "6 l\n",
      "7 e\n",
      "8 a\n",
      "9 r\n",
      "10 n\n"
     ]
    }
   ],
   "source": [
    "company=\"simplilearn\"\n",
    "for i,j in enumerate(company):\n",
    "    print(i,j)"
   ]
  },
  {
   "cell_type": "code",
   "execution_count": 30,
   "id": "d3c71707",
   "metadata": {},
   "outputs": [
    {
     "name": "stdout",
     "output_type": "stream",
     "text": [
      "(10, 's')\n",
      "(11, 'i')\n",
      "(12, 'm')\n",
      "(13, 'p')\n",
      "(14, 'l')\n",
      "(15, 'i')\n",
      "(16, 'l')\n",
      "(17, 'e')\n",
      "(18, 'a')\n",
      "(19, 'r')\n",
      "(20, 'n')\n"
     ]
    }
   ],
   "source": [
    "company=\"simplilearn\"\n",
    "for i in enumerate(company,start=10):\n",
    "    print(i)"
   ]
  },
  {
   "cell_type": "code",
   "execution_count": 32,
   "id": "66d748c3",
   "metadata": {},
   "outputs": [
    {
     "name": "stdout",
     "output_type": "stream",
     "text": [
      "('sachin', 'tendulkar')\n",
      "('m.s', 'dhoni')\n",
      "('virat', 'kohli')\n"
     ]
    }
   ],
   "source": [
    "#zip functions\n",
    "first=[\"sachin\",\"m.s\",\"virat\"]\n",
    "last=[\"tendulkar\",\"dhoni\",\"kohli\"]\n",
    "for i in zip(first,last):\n",
    "    print(i)"
   ]
  },
  {
   "cell_type": "code",
   "execution_count": 33,
   "id": "eac4c3e7",
   "metadata": {},
   "outputs": [
    {
     "name": "stdout",
     "output_type": "stream",
     "text": [
      "('sachin', 'tendulkar', 1)\n",
      "('m.s', 'dhoni', 2)\n",
      "('virat', 'kohli', 3)\n"
     ]
    }
   ],
   "source": [
    "first=[\"sachin\",\"m.s\",\"virat\"]\n",
    "last=[\"tendulkar\",\"dhoni\",\"kohli\"]\n",
    "num=[1,2,3,4,5,6,7,8]\n",
    "for i in zip(first,last,num):\n",
    "    print(i)"
   ]
  },
  {
   "cell_type": "code",
   "execution_count": 34,
   "id": "2b0ad832",
   "metadata": {},
   "outputs": [
    {
     "name": "stdout",
     "output_type": "stream",
     "text": [
      "('sachin', 'tendulkar')\n",
      "('m.s', 'dhoni')\n",
      "('virat', 'kohli')\n",
      "('sachin', None)\n",
      "('m.s', None)\n",
      "('virat', None)\n"
     ]
    }
   ],
   "source": [
    "from itertools import zip_longest\n",
    "first=[\"sachin\",\"m.s\",\"virat\",\"sachin\",\"m.s\",\"virat\"]\n",
    "last=[\"tendulkar\",\"dhoni\",\"kohli\"]\n",
    "for i in zip_longest(first,last):\n",
    "    print(i)"
   ]
  },
  {
   "cell_type": "code",
   "execution_count": 35,
   "id": "0a42e3a4",
   "metadata": {},
   "outputs": [
    {
     "name": "stdout",
     "output_type": "stream",
     "text": [
      "('sachin', 'tendulkar')\n",
      "('m.s', 'dhoni')\n",
      "('virat', 'kohli')\n",
      "('sachin', 'NA')\n",
      "('m.s', 'NA')\n",
      "('virat', 'NA')\n"
     ]
    }
   ],
   "source": [
    "#solve above problem\n",
    "from itertools import zip_longest\n",
    "first=[\"sachin\",\"m.s\",\"virat\",\"sachin\",\"m.s\",\"virat\"]\n",
    "last=[\"tendulkar\",\"dhoni\",\"kohli\"]\n",
    "for i in zip_longest(first,last,fillvalue=\"NA\"):\n",
    "    print(i)"
   ]
  },
  {
   "cell_type": "code",
   "execution_count": null,
   "id": "e4ad0f7d",
   "metadata": {},
   "outputs": [],
   "source": []
  }
 ],
 "metadata": {
  "kernelspec": {
   "display_name": "Python 3 (ipykernel)",
   "language": "python",
   "name": "python3"
  },
  "language_info": {
   "codemirror_mode": {
    "name": "ipython",
    "version": 3
   },
   "file_extension": ".py",
   "mimetype": "text/x-python",
   "name": "python",
   "nbconvert_exporter": "python",
   "pygments_lexer": "ipython3",
   "version": "3.11.4"
  }
 },
 "nbformat": 4,
 "nbformat_minor": 5
}
