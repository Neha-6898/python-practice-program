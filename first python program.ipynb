{
 "cells": [
  {
   "cell_type": "code",
   "execution_count": 1,
   "id": "c284758e",
   "metadata": {},
   "outputs": [
    {
     "name": "stdout",
     "output_type": "stream",
     "text": [
      "enter first number:5\n",
      "enter second number:10\n",
      "enter third number:2\n",
      "multiplication of three numbers: 100\n"
     ]
    }
   ],
   "source": [
    "a=int(input(\"enter first number:\"))\n",
    "b=int(input(\"enter second number:\"))\n",
    "c=int(input(\"enter third number:\"))\n",
    "d=a*b*c\n",
    "print(\"multiplication of three numbers:\",d)\n"
   ]
  },
  {
   "cell_type": "code",
   "execution_count": null,
   "id": "0bc51983",
   "metadata": {},
   "outputs": [],
   "source": []
  }
 ],
 "metadata": {
  "kernelspec": {
   "display_name": "Python 3 (ipykernel)",
   "language": "python",
   "name": "python3"
  },
  "language_info": {
   "codemirror_mode": {
    "name": "ipython",
    "version": 3
   },
   "file_extension": ".py",
   "mimetype": "text/x-python",
   "name": "python",
   "nbconvert_exporter": "python",
   "pygments_lexer": "ipython3",
   "version": "3.11.4"
  }
 },
 "nbformat": 4,
 "nbformat_minor": 5
}
