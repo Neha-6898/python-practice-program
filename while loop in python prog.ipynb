{
 "cells": [
  {
   "cell_type": "code",
   "execution_count": 5,
   "id": "a57d6a25",
   "metadata": {},
   "outputs": [
    {
     "name": "stdout",
     "output_type": "stream",
     "text": [
      "1#\n",
      "2#\n",
      "3#\n",
      "4#\n",
      "5#\n",
      "6#\n",
      "7#\n",
      "8#\n",
      "9#\n",
      "10#\n"
     ]
    }
   ],
   "source": [
    "#while loop\n",
    "i=0\n",
    "while i<10:\n",
    "    i=i+1\n",
    "    print(i,end='#')\n",
    "    print()"
   ]
  },
  {
   "cell_type": "code",
   "execution_count": 9,
   "id": "46914f72",
   "metadata": {},
   "outputs": [
    {
     "name": "stdout",
     "output_type": "stream",
     "text": [
      "the condition is true\n",
      "the condition is true\n",
      "the condition is true\n",
      "the condition is true\n",
      "the condition is true\n",
      "the condition is true\n",
      "end of loop\n"
     ]
    }
   ],
   "source": [
    "count = 0\n",
    "while count <= 5:\n",
    "    print(\"the condition is true\")\n",
    "    count = count + 1\n",
    "print(\"end of loop\")"
   ]
  },
  {
   "cell_type": "code",
   "execution_count": 17,
   "id": "64c5c389",
   "metadata": {},
   "outputs": [
    {
     "name": "stdout",
     "output_type": "stream",
     "text": [
      "please type your name\n",
      "neha\n",
      "please type your name\n",
      "neha\n",
      "please type your name\n",
      "dilly\n",
      "thank you you typed correct name\n"
     ]
    }
   ],
   "source": [
    "while True:\n",
    "    print(\"please type your name\")\n",
    "    name=input()\n",
    "    if name ==\"dilly\":\n",
    "        break\n",
    "print(\"thank you you typed correct name\")"
   ]
  },
  {
   "cell_type": "code",
   "execution_count": 18,
   "id": "14a25f77",
   "metadata": {},
   "outputs": [
    {
     "name": "stdout",
     "output_type": "stream",
     "text": [
      "28 is divisible by 4 & 7\n"
     ]
    }
   ],
   "source": [
    "#LCM of 4 and 7\n",
    "x=0\n",
    "while True:\n",
    "    x+=1\n",
    "    if not(x%4 or x%7):\n",
    "        break\n",
    "print(x, \"is divisible by 4 & 7\")"
   ]
  },
  {
   "cell_type": "code",
   "execution_count": 19,
   "id": "3159da16",
   "metadata": {},
   "outputs": [
    {
     "name": "stdout",
     "output_type": "stream",
     "text": [
      "1\n",
      "2\n",
      "3\n",
      "4\n",
      "5\n",
      "7\n",
      "8\n",
      "9\n",
      "10\n"
     ]
    }
   ],
   "source": [
    "i=0\n",
    "while i<10:\n",
    "    i+=1\n",
    "    if i==6:\n",
    "        continue\n",
    "    print(i)"
   ]
  },
  {
   "cell_type": "code",
   "execution_count": 20,
   "id": "fe7f4401",
   "metadata": {},
   "outputs": [
    {
     "name": "stdout",
     "output_type": "stream",
     "text": [
      "1\n",
      "2\n",
      "3\n",
      "4\n",
      "i is not less than 5\n"
     ]
    }
   ],
   "source": [
    "i=1\n",
    "while i<5:\n",
    "    print(i)\n",
    "    i+=1\n",
    "else:\n",
    "    print(\"i is not less than 5\")"
   ]
  },
  {
   "cell_type": "code",
   "execution_count": 22,
   "id": "f0f983dd",
   "metadata": {},
   "outputs": [
    {
     "name": "stdout",
     "output_type": "stream",
     "text": [
      "5\n",
      "4\n",
      "3\n",
      "2\n",
      "1\n",
      "there are no elements are left in the list\n"
     ]
    }
   ],
   "source": [
    "a=[1,2,3,4,5]\n",
    "while a:\n",
    "    print(a.pop())\n",
    "else:\n",
    "    print(\"there are no elements are left in the list\")"
   ]
  },
  {
   "cell_type": "code",
   "execution_count": 24,
   "id": "b75a1223",
   "metadata": {},
   "outputs": [
    {
     "name": "stdout",
     "output_type": "stream",
     "text": [
      "enter any positive number:25\n",
      "enter any positive number:25\n",
      "enter any positive number:-10\n",
      "total sum of a numbers:  50 average:  25.0\n"
     ]
    }
   ],
   "source": [
    "#average of positive number\n",
    "num=0\n",
    "count=0\n",
    "sum=0\n",
    "while num>=0:\n",
    "    num=int(input(\"enter any positive number:\"))\n",
    "    if num>0:\n",
    "        count=count+1\n",
    "        sum=sum+num\n",
    "avg=sum/count\n",
    "print(\"total sum of a numbers: \",sum,\"average: \",avg)"
   ]
  },
  {
   "cell_type": "code",
   "execution_count": 25,
   "id": "f0e178cf",
   "metadata": {},
   "outputs": [
    {
     "name": "stdout",
     "output_type": "stream",
     "text": [
      "27\n",
      "enter the integer between 1 to 100:25\n",
      "your guess is low\n",
      "enter an integer between 1 to 100:30\n",
      "\n",
      "your guess is high\n",
      "enter an integer between 1 to 100:27\n",
      "\n",
      "you guesseted correctly\n"
     ]
    }
   ],
   "source": [
    "#guessing game in python\n",
    "import random\n",
    "n=random.randint(1,100)\n",
    "print(n)\n",
    "guess=int(input(\"enter the integer between 1 to 100:\"))\n",
    "while n!=\"guess\":\n",
    "    if guess<n:\n",
    "        print(\"your guess is low\")\n",
    "        guess=int(input(\"enter an integer between 1 to 100:\"))\n",
    "    elif guess>n:\n",
    "        print(\"your guess is high\")\n",
    "        guess=int(input(\"enter an integer between 1 to 100:\"))\n",
    "    else:\n",
    "        print(\"you guesseted correctly\")\n",
    "        break\n",
    "    print()\n",
    "        \n"
   ]
  },
  {
   "cell_type": "code",
   "execution_count": null,
   "id": "08e7ad2b",
   "metadata": {},
   "outputs": [],
   "source": []
  }
 ],
 "metadata": {
  "kernelspec": {
   "display_name": "Python 3 (ipykernel)",
   "language": "python",
   "name": "python3"
  },
  "language_info": {
   "codemirror_mode": {
    "name": "ipython",
    "version": 3
   },
   "file_extension": ".py",
   "mimetype": "text/x-python",
   "name": "python",
   "nbconvert_exporter": "python",
   "pygments_lexer": "ipython3",
   "version": "3.11.4"
  }
 },
 "nbformat": 4,
 "nbformat_minor": 5
}
