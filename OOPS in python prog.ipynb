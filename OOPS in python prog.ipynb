{
 "cells": [
  {
   "cell_type": "code",
   "execution_count": 1,
   "id": "84fe8af1",
   "metadata": {},
   "outputs": [
    {
     "name": "stdout",
     "output_type": "stream",
     "text": [
      "bmw year of manufacture 2021 \n",
      "duke year of manufacture 2020 \n"
     ]
    }
   ],
   "source": [
    "#class exp\n",
    "class bikes:\n",
    "    def __init__(self,brandname,year):\n",
    "        self.brandname=brandname\n",
    "        self.year=year\n",
    "bmw=bikes(\"bmw\",2021)\n",
    "duke=bikes(\"duke\",2020)\n",
    "print(\"{} year of manufacture {} \".format(bmw.brandname,bmw.year))\n",
    "print(\"{} year of manufacture {} \".format(duke.brandname,duke.year))\n",
    "    "
   ]
  },
  {
   "cell_type": "code",
   "execution_count": 9,
   "id": "5ac65d5c",
   "metadata": {},
   "outputs": [
    {
     "name": "stdout",
     "output_type": "stream",
     "text": [
      "bmw topspeed is 220 \n",
      "bmw is geared bike \n"
     ]
    }
   ],
   "source": [
    "#class obj exp\n",
    "class bikes:\n",
    "    def __init__(self,brandname,year):\n",
    "        self.brandname=brandname\n",
    "        self.year=year\n",
    "    def topspeed(self,topspeed):\n",
    "        return\"{} topspeed is {} \".format(self.brandname,topspeed)\n",
    "    def type(self):\n",
    "        return\"{} is geared bike \".format(self.brandname)\n",
    "bmw=bikes(\"bmw\",220)\n",
    "print(bmw.topspeed(220))\n",
    "print(bmw.type())\n",
    "\n",
    "\n",
    "                                    \n",
    "        "
   ]
  },
  {
   "cell_type": "code",
   "execution_count": 10,
   "id": "163cfc02",
   "metadata": {},
   "outputs": [
    {
     "name": "stdout",
     "output_type": "stream",
     "text": [
      "cat meows\n",
      "animal making sound\n"
     ]
    }
   ],
   "source": [
    "#single inheritance\n",
    "class animal:\n",
    "    def sound(self):\n",
    "        print(\"animal making sound\")\n",
    "class cat(animal):\n",
    "    def meow(self):\n",
    "        print(\"cat meows\")\n",
    "        \n",
    "d=cat()\n",
    "d.meow()\n",
    "d.sound()"
   ]
  },
  {
   "cell_type": "code",
   "execution_count": 3,
   "id": "026b5840",
   "metadata": {},
   "outputs": [
    {
     "name": "stdout",
     "output_type": "stream",
     "text": [
      "cat meows\n",
      "animal making sound\n",
      "eating bread...\n"
     ]
    }
   ],
   "source": [
    "#multilevel inheritance\n",
    "class animal:\n",
    "    def sound(self):\n",
    "        print(\"animal making sound\")\n",
    "class cat(animal):\n",
    "    def meow(self):\n",
    "        print(\"cat meows\")\n",
    "class catchild(cat):\n",
    "    def eat(self):\n",
    "        print(\"eating bread...\")\n",
    "d=catchild()\n",
    "d.meow()\n",
    "d.sound()\n",
    "d.eat()\n"
   ]
  },
  {
   "cell_type": "code",
   "execution_count": 5,
   "id": "e644bfec",
   "metadata": {},
   "outputs": [
    {
     "name": "stdout",
     "output_type": "stream",
     "text": [
      "parrot can fly\n",
      "penguin cant fly\n"
     ]
    }
   ],
   "source": [
    "#polymorphism\n",
    "class parrot:\n",
    "    def fly(self):\n",
    "        print(\"parrot can fly\")\n",
    "    def swim(self):\n",
    "        print(\"parrot cant swims\")\n",
    "class penguin:\n",
    "    def fly(self):\n",
    "        print(\"penguin cant fly\")\n",
    "    def swim(self):\n",
    "        print(\"penguin can swims\")\n",
    "        \n",
    "def flying_test(bird):\n",
    "    bird.fly()\n",
    "    \n",
    "blu=parrot()\n",
    "paggy=penguin()\n",
    "\n",
    "flying_test(blu)\n",
    "flying_test(paggy)\n",
    "    "
   ]
  },
  {
   "cell_type": "code",
   "execution_count": 10,
   "id": "b2b9a85d",
   "metadata": {},
   "outputs": [
    {
     "name": "stdout",
     "output_type": "stream",
     "text": [
      "selling price:900000\n",
      "selling price:900000\n"
     ]
    }
   ],
   "source": [
    "#encapsulation\n",
    "class cars:\n",
    "    def __init__(self):\n",
    "        self.__maxprice=900000\n",
    "    def sell(self):\n",
    "        print(\"selling price:{}\".format(self.__maxprice))\n",
    "    def setmaxprice(self,price):\n",
    "        self.__maxprice=price\n",
    "c=cars()\n",
    "c.sell()\n",
    "c.maxprice=1000000\n",
    "c.sell()"
   ]
  },
  {
   "cell_type": "code",
   "execution_count": 11,
   "id": "cd9aad1c",
   "metadata": {},
   "outputs": [
    {
     "name": "stdout",
     "output_type": "stream",
     "text": [
      "selling price:1000\n"
     ]
    }
   ],
   "source": [
    "c.setmaxprice(1000)\n",
    "c.sell()"
   ]
  },
  {
   "cell_type": "code",
   "execution_count": 13,
   "id": "46620141",
   "metadata": {},
   "outputs": [
    {
     "name": "stdout",
     "output_type": "stream",
     "text": [
      "25\n",
      "27\n"
     ]
    }
   ],
   "source": [
    "#hierarchical inheritance\n",
    "class employee():\n",
    "    def __init__(self,name,age,salary):\n",
    "        self.name=name\n",
    "        self.age=age\n",
    "        self.salary=salary\n",
    "\n",
    "class childemployee1(employee):\n",
    "    def __init__(self,name,age,salary):\n",
    "        self.name=name\n",
    "        self.age=age\n",
    "        self.salary=salary\n",
    "        \n",
    "class childemployee2(employee):\n",
    "    def __init__(self,name,age,salary):\n",
    "        self.name=name\n",
    "        self.age=age\n",
    "        self.salary=salary\n",
    "        \n",
    "emp1=childemployee1(\"neha\",25,500000)\n",
    "emp2=childemployee1(\"isha\",27,700000)\n",
    "\n",
    "print(emp1.age)\n",
    "print(emp2.age)"
   ]
  },
  {
   "cell_type": "code",
   "execution_count": 16,
   "id": "d2bfc48e",
   "metadata": {},
   "outputs": [
    {
     "name": "stdout",
     "output_type": "stream",
     "text": [
      "the mileage is 30kmph\n",
      "the mileage is 25kmph\n",
      "the mileage is 24kmph\n",
      "the mileage is 27kmph\n"
     ]
    }
   ],
   "source": [
    "#abstraction\n",
    "class car():\n",
    "    def mileage(self):\n",
    "        pass\n",
    "    \n",
    "class bmw(car):\n",
    "    def mileage(self):\n",
    "        print(\"the mileage is 30kmph\")\n",
    "class jaguar(car):\n",
    "    def mileage(self):\n",
    "        print(\"the mileage is 25kmph\")\n",
    "class rangerover(car):\n",
    "    def mileage(self):\n",
    "        print(\"the mileage is 24kmph\")\n",
    "class renault(car):\n",
    "    def mileage(self):\n",
    "        print(\"the mileage is 27kmph\")\n",
    "t=bmw()\n",
    "t.mileage()\n",
    "t=jaguar()\n",
    "t.mileage()\n",
    "t=rangerover()\n",
    "t.mileage()\n",
    "t=renault()\n",
    "t.mileage()\n",
    "        \n"
   ]
  },
  {
   "cell_type": "code",
   "execution_count": null,
   "id": "3833f774",
   "metadata": {},
   "outputs": [],
   "source": []
  }
 ],
 "metadata": {
  "kernelspec": {
   "display_name": "Python 3 (ipykernel)",
   "language": "python",
   "name": "python3"
  },
  "language_info": {
   "codemirror_mode": {
    "name": "ipython",
    "version": 3
   },
   "file_extension": ".py",
   "mimetype": "text/x-python",
   "name": "python",
   "nbconvert_exporter": "python",
   "pygments_lexer": "ipython3",
   "version": "3.11.4"
  }
 },
 "nbformat": 4,
 "nbformat_minor": 5
}
